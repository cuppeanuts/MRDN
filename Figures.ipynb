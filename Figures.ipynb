{
 "cells": [
  {
   "cell_type": "code",
   "execution_count": 2,
   "metadata": {
    "scrolled": true
   },
   "outputs": [
    {
     "name": "stderr",
     "output_type": "stream",
     "text": [
      "── \u001b[1mAttaching packages\u001b[22m ─────────────────────────────────────────────────────────────────────────────────────────────────────────────────────────────────── tidyverse 1.3.0 ──\n",
      "\n",
      "\u001b[32m✔\u001b[39m \u001b[34mggplot2\u001b[39m 3.3.3     \u001b[32m✔\u001b[39m \u001b[34mpurrr  \u001b[39m 0.3.4\n",
      "\u001b[32m✔\u001b[39m \u001b[34mtibble \u001b[39m 3.0.4     \u001b[32m✔\u001b[39m \u001b[34mdplyr  \u001b[39m 1.0.2\n",
      "\u001b[32m✔\u001b[39m \u001b[34mtidyr  \u001b[39m 1.1.2     \u001b[32m✔\u001b[39m \u001b[34mstringr\u001b[39m 1.4.0\n",
      "\u001b[32m✔\u001b[39m \u001b[34mreadr  \u001b[39m 1.4.0     \u001b[32m✔\u001b[39m \u001b[34mforcats\u001b[39m 0.5.0\n",
      "\n",
      "── \u001b[1mConflicts\u001b[22m ────────────────────────────────────────────────────────────────────────────────────────────────────────────────────────────────────── tidyverse_conflicts() ──\n",
      "\u001b[31m✖\u001b[39m \u001b[34mdplyr\u001b[39m::\u001b[32mfilter()\u001b[39m masks \u001b[34mstats\u001b[39m::filter()\n",
      "\u001b[31m✖\u001b[39m \u001b[34mdplyr\u001b[39m::\u001b[32mlag()\u001b[39m    masks \u001b[34mstats\u001b[39m::lag()\n",
      "\n"
     ]
    }
   ],
   "source": [
    "library(\"tidyverse\")"
   ]
  },
  {
   "cell_type": "code",
   "execution_count": 29,
   "metadata": {},
   "outputs": [],
   "source": [
    "library(\"writexl\")\n",
    "library(\"readxl\")"
   ]
  },
  {
   "cell_type": "code",
   "execution_count": 14,
   "metadata": {},
   "outputs": [],
   "source": [
    "source(\"./code/plots.R\")"
   ]
  },
  {
   "cell_type": "markdown",
   "metadata": {},
   "source": [
    "# Figure 2"
   ]
  },
  {
   "cell_type": "markdown",
   "metadata": {},
   "source": [
    "## code"
   ]
  },
  {
   "cell_type": "code",
   "execution_count": 43,
   "metadata": {},
   "outputs": [
    {
     "name": "stderr",
     "output_type": "stream",
     "text": [
      "Parsed with column specification:\n",
      "cols(\n",
      "  Nodes = \u001b[31mcol_character()\u001b[39m,\n",
      "  Category = \u001b[31mcol_character()\u001b[39m\n",
      ")\n",
      "\n"
     ]
    }
   ],
   "source": [
    "disease <- read_tsv(\"./results/MRDN_nodes_category.txt\")\n",
    "fullname <- c(\"Bacterial Infections and Mycoses\", \n",
    "              \"Neoplasms\", \n",
    "              \"Cardiovascular Diseases\", \n",
    "              \"Digestive System Diseases\", \n",
    "              \"Hemic and Lymphatic Diseases\", \n",
    "              \"Immune System Diseases\", \n",
    "              \"Nutritional and Metabolic Diseases\", \n",
    "              \"Musculoskeletal Diseases\", \n",
    "              \"Nervous System Diseases\", \n",
    "              \"Parasitic Diseases\", \n",
    "              \"Respiratory Tract Diseases\", \n",
    "              \"Skin and Connective Tissue Diseases\", \n",
    "              \"Urogenital Diseases and Pregnancy Complications\", \n",
    "              \"Virus Diseases\", \n",
    "              \"Others\"\n",
    "             )\n",
    "disease[\"Category\"] <- factor(disease$Category, ordered=TRUE, levels=fullname)"
   ]
  },
  {
   "cell_type": "code",
   "execution_count": 46,
   "metadata": {},
   "outputs": [],
   "source": [
    "f2a <- ggplot(disease, aes(Category, fill=Category)) + \n",
    "    geom_bar(stat=\"count\") + \n",
    "    scale_fill_manual(values=c(\"#ff6600\", \n",
    "                               \"#ff00cc\", \n",
    "                               \"#ffcc00\", \n",
    "                               \"#ccff00\", \n",
    "                               \"#ff3333\", \n",
    "                               \"#00ff00\", \n",
    "                               \"#00ff66\", \n",
    "                               \"#00ffcc\", \n",
    "                               \"#00ccff\", \n",
    "                               \"#0000ff\", \n",
    "                               \"#6600ff\", \n",
    "                               \"#cc00ff\", \n",
    "                               \"#ff0066\", \n",
    "                               \"#ff0000\", \n",
    "                               \"#aaaaaa\"\n",
    "                              )) + \n",
    "    labs(x=\"Disease Classes\", y=\"Count\") + \n",
    "    theme(panel.background = element_blank(), \n",
    "          panel.grid = element_blank(), \n",
    "          axis.line = element_line(color=\"gray30\"), \n",
    "          axis.ticks = element_line(color=\"gray30\"), \n",
    "          axis.text = element_text(color=\"gray30\"), \n",
    "          axis.text.x = element_blank(), \n",
    "          axis.ticks.x = element_blank(),\n",
    "          legend.title = element_blank()\n",
    "         )"
   ]
  },
  {
   "cell_type": "code",
   "execution_count": 57,
   "metadata": {},
   "outputs": [
    {
     "name": "stderr",
     "output_type": "stream",
     "text": [
      "Parsed with column specification:\n",
      "cols(\n",
      "  `pri-miRNA` = \u001b[31mcol_character()\u001b[39m,\n",
      "  disease = \u001b[31mcol_character()\u001b[39m,\n",
      "  regulation = \u001b[32mcol_double()\u001b[39m\n",
      ")\n",
      "\n"
     ]
    }
   ],
   "source": [
    "exp_data <- read_tsv(\"./results/HMDD_tissue.txt\")\n",
    "exp_data <- exp_data %>%\n",
    "    group_by(`pri-miRNA`, disease) %>%\n",
    "    summarize(regulation=sum(regulation)) %>%\n",
    "    filter(regulation != 0)"
   ]
  },
  {
   "cell_type": "code",
   "execution_count": 75,
   "metadata": {},
   "outputs": [],
   "source": [
    "mir <- exp_data %>%\n",
    "    group_by(`pri-miRNA`) %>%\n",
    "    summarize(count=n()) %>%\n",
    "    arrange(desc(count)) %>%\n",
    "    head(n=10) %>%\n",
    "    mutate(group=\"mir\", name=`pri-miRNA`)\n",
    "disease <- exp_data %>%\n",
    "    group_by(disease) %>%\n",
    "    summarize(count=n()) %>%\n",
    "    arrange(desc(count)) %>%\n",
    "    head(n=10) %>%\n",
    "    mutate(group=\"disease\", name=disease)\n",
    "cnt <- bind_rows(mir, disease)\n",
    "cnt[\"name\"] <- factor(cnt$name, ordered=TRUE, levels=cnt$name)"
   ]
  },
  {
   "cell_type": "code",
   "execution_count": 86,
   "metadata": {},
   "outputs": [],
   "source": [
    "f2bc <- ggplot(cnt, aes(x=name, y=count, fill=group)) + \n",
    "    geom_col() + \n",
    "    scale_fill_manual(values = c(\"steelblue\", \"tomato\")) + \n",
    "    guides(fill=FALSE) + \n",
    "    theme(panel.background = element_blank(), \n",
    "          panel.grid = element_blank(), \n",
    "          axis.line = element_line(color=\"gray30\"), \n",
    "          axis.ticks = element_line(color=\"gray30\"), \n",
    "          axis.text = element_text(color=\"gray30\"), \n",
    "          axis.text.x = element_text(hjust=1, angle=45)\n",
    "         ) + facet_wrap(. ~ group, scales=\"free\")"
   ]
  },
  {
   "cell_type": "markdown",
   "metadata": {},
   "source": [
    "## plot"
   ]
  },
  {
   "cell_type": "code",
   "execution_count": 78,
   "metadata": {},
   "outputs": [
    {
     "data": {
      "image/png": "[encoded data removed]",
      "text/plain": [
       "plot without title"
      ]
     },
     "metadata": {
      "image/png": {
       "height": 240,
       "width": 480
      }
     },
     "output_type": "display_data"
    }
   ],
   "source": [
    "options(repr.plot.width=8, repr.plot.height=4)\n",
    "f2a"
   ]
  },
  {
   "cell_type": "code",
   "execution_count": 88,
   "metadata": {},
   "outputs": [
    {
     "data": {
      "image/png": "[encoded data removed]",
      "text/plain": [
       "plot without title"
      ]
     },
     "metadata": {
      "image/png": {
       "height": 240,
       "width": 420
      }
     },
     "output_type": "display_data"
    }
   ],
   "source": [
    "options(repr.plot.width=7, repr.plot.height=4)\n",
    "f2bc"
   ]
  },
  {
   "cell_type": "markdown",
   "metadata": {},
   "source": [
    "# Figure 3"
   ]
  },
  {
   "cell_type": "markdown",
   "metadata": {},
   "source": [
    "## code"
   ]
  },
  {
   "cell_type": "code",
   "execution_count": 133,
   "metadata": {},
   "outputs": [
    {
     "name": "stderr",
     "output_type": "stream",
     "text": [
      "Parsed with column specification:\n",
      "cols(\n",
      "  Nodes = \u001b[31mcol_character()\u001b[39m,\n",
      "  Category = \u001b[31mcol_character()\u001b[39m,\n",
      "  Degree = \u001b[32mcol_double()\u001b[39m,\n",
      "  Positive_Edge = \u001b[32mcol_double()\u001b[39m,\n",
      "  Negative_Edge = \u001b[32mcol_double()\u001b[39m,\n",
      "  Cluster_Coefficient = \u001b[32mcol_double()\u001b[39m\n",
      ")\n",
      "\n"
     ]
    }
   ],
   "source": [
    "node.info <- read_tsv(\"./results/MRDN_nodes_property.txt\")"
   ]
  },
  {
   "cell_type": "code",
   "execution_count": 146,
   "metadata": {},
   "outputs": [],
   "source": [
    "pnmod <- lm(Negative_Edge ~ Positive_Edge, node.info)\n",
    "s <- summary(pnmod)\n",
    "itc <- s$coefficients['(Intercept)', 'Estimate']\n",
    "bx <- s$coefficients['Positive_Edge', 'Estimate']\n",
    "lmfunc <- function (x){\n",
    "    a <- as.numeric(x[4])\n",
    "    b <- as.numeric(x[5])\n",
    "    return(bx*a-b+itc)\n",
    "}\n",
    "node.info['distance'] <- apply(node.info, 1, lmfunc)"
   ]
  },
  {
   "cell_type": "code",
   "execution_count": 147,
   "metadata": {},
   "outputs": [
    {
     "data": {
      "text/plain": [
       "\n",
       "\tPearson's product-moment correlation\n",
       "\n",
       "data:  node.info$Positive_Edge and node.info$Negative_Edge\n",
       "t = 8.5259, df = 302, p-value = 7.385e-16\n",
       "alternative hypothesis: true correlation is not equal to 0\n",
       "95 percent confidence interval:\n",
       " 0.3450611 0.5268446\n",
       "sample estimates:\n",
       "      cor \n",
       "0.4404563 \n"
      ]
     },
     "metadata": {},
     "output_type": "display_data"
    }
   ],
   "source": [
    "cor.test(node.info$Positive_Edge, node.info$Negative_Edge, method=\"pearson\")"
   ]
  },
  {
   "cell_type": "code",
   "execution_count": 149,
   "metadata": {},
   "outputs": [],
   "source": [
    "f3b <- ggplot(node.info, aes(Positive_Edge, Negative_Edge)) + \n",
    "    geom_point(aes(color=distance)) + \n",
    "    scale_color_gradient2(low=\"steelblue\", high=\"tomato\", midpoint=0, limits=c(-20, 20)) + \n",
    "    geom_smooth(method=\"lm\") + \n",
    "    theme(panel.background = element_blank(), \n",
    "          panel.grid = element_blank(), \n",
    "          axis.line = element_line(color=\"gray30\"), \n",
    "          axis.ticks = element_line(color=\"gray30\"), \n",
    "          axis.text = element_text(color=\"gray30\"),\n",
    "         ) + \n",
    "    geom_text(data=head(arrange(node.info, distance)), \n",
    "              mapping=aes(x=Positive_Edge, y=Negative_Edge, label=Nodes), \n",
    "              size=2,\n",
    "              position=\"jitter\"\n",
    "             ) + \n",
    "    geom_text(data=head(arrange(node.info, desc(distance))),\n",
    "              mapping=aes(x=Positive_Edge, y=Negative_Edge, label=Nodes), \n",
    "              size=2,\n",
    "              position=\"jitter\"\n",
    "             )"
   ]
  },
  {
   "cell_type": "code",
   "execution_count": 171,
   "metadata": {},
   "outputs": [
    {
     "name": "stderr",
     "output_type": "stream",
     "text": [
      "Parsed with column specification:\n",
      "cols(\n",
      "  From = \u001b[31mcol_character()\u001b[39m,\n",
      "  To = \u001b[31mcol_character()\u001b[39m,\n",
      "  Distance = \u001b[32mcol_double()\u001b[39m,\n",
      "  Type = \u001b[31mcol_character()\u001b[39m\n",
      ")\n",
      "\n"
     ]
    }
   ],
   "source": [
    "disf <- read_tsv(\"./results/MRDN_Distance.txt\")\n",
    "disf <- disf[disf$Distance!=0, ]\n",
    "pst <- function(x){\n",
    "    vec <- sort(as.vector(x))\n",
    "    res <- paste(vec[1], vec[2], sep=\".2.\")\n",
    "    return(res)\n",
    "}\n",
    "disf['pair'] <- as.vector(apply(disf[,c(1,2)], 1, pst))\n",
    "disf <- disf[!duplicated(disf$pair), ]\n"
   ]
  },
  {
   "cell_type": "code",
   "execution_count": 172,
   "metadata": {
    "scrolled": true
   },
   "outputs": [
    {
     "data": {
      "text/plain": [
       "\n",
       "\tWelch Two Sample t-test\n",
       "\n",
       "data:  disf[[\"Distance\"]][disf$Type == \"intra\"] and disf[[\"Distance\"]][disf$Type == \"inter\"]\n",
       "t = -11.616, df = 11366, p-value < 2.2e-16\n",
       "alternative hypothesis: true difference in means is not equal to 0\n",
       "95 percent confidence interval:\n",
       " -0.12486742 -0.08880933\n",
       "sample estimates:\n",
       "mean of x mean of y \n",
       " 2.474866  2.581704 \n"
      ]
     },
     "metadata": {},
     "output_type": "display_data"
    }
   ],
   "source": [
    "res <- t.test(disf[[\"Distance\"]][disf$Type==\"intra\"], disf[[\"Distance\"]][disf$Type==\"inter\"])\n",
    "res"
   ]
  },
  {
   "cell_type": "code",
   "execution_count": 173,
   "metadata": {},
   "outputs": [
    {
     "data": {
      "text/html": [
       "5.12705716717088e-31"
      ],
      "text/latex": [
       "5.12705716717088e-31"
      ],
      "text/markdown": [
       "5.12705716717088e-31"
      ],
      "text/plain": [
       "[1] 5.127057e-31"
      ]
     },
     "metadata": {},
     "output_type": "display_data"
    }
   ],
   "source": [
    "res$p.value"
   ]
  },
  {
   "cell_type": "code",
   "execution_count": 176,
   "metadata": {},
   "outputs": [],
   "source": [
    "disf['Type'] <- factor(disf$Type, ordered=TRUE, levels=c(\"intra\", \"inter\"))\n",
    "f3c <- ggplot(disf, aes(x=Type, y=Distance, color=Type, fill=Type)) + \n",
    "    geom_violin(scale=\"area\", show.legend=FALSE) + \n",
    "    scale_y_continuous(breaks=seq(0,7,1), limits=c(0, 7)) + \n",
    "    scale_color_brewer(palette=\"Set1\") +\n",
    "    scale_fill_brewer(palette=\"Set1\") + \n",
    "    theme(panel.background = element_blank(), \n",
    "          panel.grid = element_blank(), \n",
    "          axis.line = element_line(color=\"gray30\"), \n",
    "          axis.ticks = element_line(color=\"gray30\"), \n",
    "          axis.text = element_text(color=\"gray30\")\n",
    "         )"
   ]
  },
  {
   "cell_type": "markdown",
   "metadata": {
    "heading_collapsed": true
   },
   "source": [
    "## plot"
   ]
  },
  {
   "cell_type": "code",
   "execution_count": 150,
   "metadata": {
    "hidden": true
   },
   "outputs": [
    {
     "data": {
      "image/png": "[encoded data removed]",
      "text/plain": [
       "plot without title"
      ]
     },
     "metadata": {
      "image/png": {
       "height": 360,
       "width": 420
      }
     },
     "output_type": "display_data"
    }
   ],
   "source": [
    "options(repr.plot.width=7, repr.plot.height=6)\n",
    "f3b"
   ]
  },
  {
   "cell_type": "code",
   "execution_count": 175,
   "metadata": {
    "hidden": true
   },
   "outputs": [
    {
     "data": {
      "image/png": "[encoded data removed]",
      "text/plain": [
       "plot without title"
      ]
     },
     "metadata": {
      "image/png": {
       "height": 180,
       "width": 240
      }
     },
     "output_type": "display_data"
    }
   ],
   "source": [
    "options(repr.plot.width=4, repr.plot.height=3)\n",
    "f3c"
   ]
  },
  {
   "cell_type": "markdown",
   "metadata": {},
   "source": [
    "# Fisher Test"
   ]
  },
  {
   "cell_type": "code",
   "execution_count": 177,
   "metadata": {},
   "outputs": [
    {
     "name": "stderr",
     "output_type": "stream",
     "text": [
      "Parsed with column specification:\n",
      "cols(\n",
      "  d1 = \u001b[31mcol_character()\u001b[39m,\n",
      "  d2 = \u001b[31mcol_character()\u001b[39m,\n",
      "  similarity = \u001b[32mcol_double()\u001b[39m,\n",
      "  d1_class = \u001b[31mcol_character()\u001b[39m,\n",
      "  d2_class = \u001b[31mcol_character()\u001b[39m,\n",
      "  same_class = \u001b[33mcol_logical()\u001b[39m\n",
      ")\n",
      "\n"
     ]
    }
   ],
   "source": [
    "disf <- read_tsv(\"./results/MRDN_diseases.txt\")"
   ]
  },
  {
   "cell_type": "code",
   "execution_count": 188,
   "metadata": {},
   "outputs": [
    {
     "data": {
      "text/html": [
       "<ol class=list-inline>\n",
       "\t<li>1829</li>\n",
       "\t<li>611</li>\n",
       "\t<li>36075</li>\n",
       "\t<li>7541</li>\n",
       "</ol>\n"
      ],
      "text/latex": [
       "\\begin{enumerate*}\n",
       "\\item 1829\n",
       "\\item 611\n",
       "\\item 36075\n",
       "\\item 7541\n",
       "\\end{enumerate*}\n"
      ],
      "text/markdown": [
       "1. 1829\n",
       "2. 611\n",
       "3. 36075\n",
       "4. 7541\n",
       "\n",
       "\n"
      ],
      "text/plain": [
       "[1]  1829   611 36075  7541"
      ]
     },
     "metadata": {},
     "output_type": "display_data"
    }
   ],
   "source": [
    "disf <- disf %>%\n",
    "    mutate(simabs=abs(similarity))\n",
    "within_inter <- nrow(disf[(disf$simabs>0.05)&(!disf$same_class),])/2\n",
    "within_intra <- nrow(disf[(disf$simabs>0.05)&(disf$same_class),])/2\n",
    "without_inter <- nrow(disf[(disf$simabs<=0.05)&(!disf$same_class),])/2\n",
    "without_intra <- nrow(disf[(disf$simabs<=0.05)&(disf$same_class),])/2\n",
    "c(within_inter, within_intra, without_inter, without_intra)"
   ]
  },
  {
   "cell_type": "code",
   "execution_count": 189,
   "metadata": {
    "scrolled": true
   },
   "outputs": [
    {
     "data": {
      "text/html": [
       "1.01572852989129e-20"
      ],
      "text/latex": [
       "1.01572852989129e-20"
      ],
      "text/markdown": [
       "1.01572852989129e-20"
      ],
      "text/plain": [
       "[1] 1.015729e-20"
      ]
     },
     "metadata": {},
     "output_type": "display_data"
    }
   ],
   "source": [
    "fisher.test(matrix(c(within_intra, within_inter, without_intra, without_inter), nrow=2, byrow=T))$p.value"
   ]
  },
  {
   "cell_type": "code",
   "execution_count": 191,
   "metadata": {},
   "outputs": [
    {
     "data": {
      "text/html": [
       "<ol class=list-inline>\n",
       "\t<li>432</li>\n",
       "\t<li>179</li>\n",
       "\t<li>1089</li>\n",
       "\t<li>740</li>\n",
       "</ol>\n"
      ],
      "text/latex": [
       "\\begin{enumerate*}\n",
       "\\item 432\n",
       "\\item 179\n",
       "\\item 1089\n",
       "\\item 740\n",
       "\\end{enumerate*}\n"
      ],
      "text/markdown": [
       "1. 432\n",
       "2. 179\n",
       "3. 1089\n",
       "4. 740\n",
       "\n",
       "\n"
      ],
      "text/plain": [
       "[1]  432  179 1089  740"
      ]
     },
     "metadata": {},
     "output_type": "display_data"
    }
   ],
   "source": [
    "disfi <- disf %>% filter(simabs > 0.05)\n",
    "pa <- nrow(disfi[(disfi$similarity>0)&(disfi$same_class),])/2\n",
    "pe <- nrow(disfi[(disfi$similarity>0)&(!disfi$same_class),])/2\n",
    "na <- nrow(disfi[(disfi$similarity<0)&(disfi$same_class),])/2\n",
    "ne <- nrow(disfi[(disfi$similarity<0)&(!disfi$same_class),])/2\n",
    "c(pa, na, pe, ne)"
   ]
  },
  {
   "cell_type": "code",
   "execution_count": 192,
   "metadata": {},
   "outputs": [
    {
     "data": {
      "text/html": [
       "6.59061386404499e-07"
      ],
      "text/latex": [
       "6.59061386404499e-07"
      ],
      "text/markdown": [
       "6.59061386404499e-07"
      ],
      "text/plain": [
       "[1] 6.590614e-07"
      ]
     },
     "metadata": {},
     "output_type": "display_data"
    }
   ],
   "source": [
    "fisher.test(matrix(c(pa, pe, na, ne), nrow=2, byrow=TRUE))$p.value"
   ]
  },
  {
   "cell_type": "markdown",
   "metadata": {},
   "source": [
    "# coherent"
   ]
  },
  {
   "cell_type": "markdown",
   "metadata": {},
   "source": [
    "## code"
   ]
  },
  {
   "cell_type": "code",
   "execution_count": 211,
   "metadata": {},
   "outputs": [],
   "source": [
    "coh_shuffle <- read.table(\"./results/coherent/MRDN_Coherent_Shuffle.txt\", sep=\"\\t\", header=TRUE)\n",
    "coh_shuffle['method'] <- \"shuffle\"\n",
    "coh_rewiring <- read.table(\"./results/coherent/MRDN_Coherent_Rewiring.txt\", sep=\"\\t\", header=TRUE)\n",
    "coh_rewiring['method'] <- \"rewiring\"\n",
    "coh <- rbind(coh_shuffle, coh_rewiring)"
   ]
  },
  {
   "cell_type": "code",
   "execution_count": 212,
   "metadata": {},
   "outputs": [
    {
     "data": {
      "text/html": [
       "<table>\n",
       "<caption>A data.frame: 2 × 4</caption>\n",
       "<thead>\n",
       "\t<tr><th scope=col>Group.1</th><th scope=col>all</th><th scope=col>coherent</th><th scope=col>ratio</th></tr>\n",
       "\t<tr><th scope=col>&lt;fct&gt;</th><th scope=col>&lt;dbl&gt;</th><th scope=col>&lt;dbl&gt;</th><th scope=col>&lt;dbl&gt;</th></tr>\n",
       "</thead>\n",
       "<tbody>\n",
       "\t<tr><td>rewiring</td><td> 688.5768</td><td> 349.4877</td><td>1.033769</td></tr>\n",
       "\t<tr><td>shuffle </td><td>1537.5595</td><td>1378.3460</td><td>8.720209</td></tr>\n",
       "</tbody>\n",
       "</table>\n"
      ],
      "text/latex": [
       "A data.frame: 2 × 4\n",
       "\\begin{tabular}{llll}\n",
       " Group.1 & all & coherent & ratio\\\\\n",
       " <fct> & <dbl> & <dbl> & <dbl>\\\\\n",
       "\\hline\n",
       "\t rewiring &  688.5768 &  349.4877 & 1.033769\\\\\n",
       "\t shuffle  & 1537.5595 & 1378.3460 & 8.720209\\\\\n",
       "\\end{tabular}\n"
      ],
      "text/markdown": [
       "\n",
       "A data.frame: 2 × 4\n",
       "\n",
       "| Group.1 &lt;fct&gt; | all &lt;dbl&gt; | coherent &lt;dbl&gt; | ratio &lt;dbl&gt; |\n",
       "|---|---|---|---|\n",
       "| rewiring |  688.5768 |  349.4877 | 1.033769 |\n",
       "| shuffle  | 1537.5595 | 1378.3460 | 8.720209 |\n",
       "\n"
      ],
      "text/plain": [
       "  Group.1  all       coherent  ratio   \n",
       "1 rewiring  688.5768  349.4877 1.033769\n",
       "2 shuffle  1537.5595 1378.3460 8.720209"
      ]
     },
     "metadata": {},
     "output_type": "display_data"
    }
   ],
   "source": [
    "aggregate(coh[, c(1:3)], by=list(factor(coh$method)), FUN=mean)"
   ]
  },
  {
   "cell_type": "code",
   "execution_count": 213,
   "metadata": {},
   "outputs": [
    {
     "data": {
      "text/plain": [
       "\n",
       "\tOne Sample t-test\n",
       "\n",
       "data:  coh_shuffle$ratio\n",
       "t = -889.08, df = 9999, p-value < 2.2e-16\n",
       "alternative hypothesis: true mean is not equal to 16.02\n",
       "95 percent confidence interval:\n",
       " 8.704115 8.736303\n",
       "sample estimates:\n",
       "mean of x \n",
       " 8.720209 \n"
      ]
     },
     "metadata": {},
     "output_type": "display_data"
    }
   ],
   "source": [
    "t.test(x=coh_shuffle$ratio, mu=16.02)"
   ]
  },
  {
   "cell_type": "code",
   "execution_count": 214,
   "metadata": {},
   "outputs": [],
   "source": [
    "cohp <- ggplot(coh, aes(x=ratio)) + \n",
    "    geom_smooth(stat=\"density\", size=0.5) + \n",
    "    scale_x_continuous(limits=c(6,18), breaks=seq(6,18,2)) + \n",
    "    theme(panel.background = element_blank(), \n",
    "          panel.grid = element_blank(), \n",
    "          axis.line = element_line(color=\"gray30\"), \n",
    "          axis.ticks = element_line(color=\"gray30\"), \n",
    "          axis.text = element_text(color=\"gray30\"),\n",
    "         ) + \n",
    "    facet_wrap(. ~ method, scales=\"free\") + \n",
    "    annotate(\"segment\", x=16, xend=16, y=0.2, yend=0.05, arrow=arrow(length=unit(3,\"mm\")), size=0.6, color=\"firebrick3\")\n"
   ]
  },
  {
   "cell_type": "markdown",
   "metadata": {},
   "source": [
    "## plot"
   ]
  },
  {
   "cell_type": "code",
   "execution_count": 215,
   "metadata": {},
   "outputs": [
    {
     "name": "stderr",
     "output_type": "stream",
     "text": [
      "Warning message:\n",
      "“Removed 10000 rows containing non-finite values (stat_density).”\n"
     ]
    },
    {
     "data": {
      "image/png": "[encoded data removed]",
      "text/plain": [
       "plot without title"
      ]
     },
     "metadata": {
      "image/png": {
       "height": 180,
       "width": 420
      }
     },
     "output_type": "display_data"
    }
   ],
   "source": [
    "options(repr.plot.width=7, repr.plot.height=3)\n",
    "cohp"
   ]
  },
  {
   "cell_type": "markdown",
   "metadata": {},
   "source": [
    "# Figure 4"
   ]
  },
  {
   "cell_type": "markdown",
   "metadata": {},
   "source": [
    "## code"
   ]
  },
  {
   "cell_type": "code",
   "execution_count": 228,
   "metadata": {},
   "outputs": [],
   "source": [
    "mirmat <- read.table(\"./results/HMDD_similarity_matrix.txt\", sep=\"\\t\", header=TRUE, row.names=1, check.names = FALSE, quote = \"\")"
   ]
  },
  {
   "cell_type": "code",
   "execution_count": 229,
   "metadata": {},
   "outputs": [],
   "source": [
    "dname <- 'Aortic Aneurysm, Abdominal'\n",
    "omat <- mirmat[order(mirmat[, dname]), c('Aortic Aneurysm, Abdominal', dname)]\n",
    "vmat <- rbind(head(omat, 10), tail(omat, 11)[-11, ])\n",
    "colnames(vmat) <- c(\"aaa\", \"disease\")\n",
    "vmat['xlab'] <- factor(rownames(vmat), ordered=TRUE, levels=rownames(vmat))\n",
    "vmat['group'] <- factor(cut(vmat$disease, c(-1, 0, 1), labels=c(\"opposite\", \"similar\")), \n",
    "                        ordered=TRUE, levels=c(\"similar\", \"opposite\"))\n",
    "simp <- ggplot(vmat, aes(x = xlab, y = disease, fill = group)) + \n",
    "  geom_col() + \n",
    "  scale_fill_manual(values=c(\"steelblue2\", \"firebrick1\")) + \n",
    "  labs(x=\"Disease\", y=\"Simiarity\", title=dname) + \n",
    "  theme(panel.background = element_blank(), \n",
    "        panel.grid = element_blank(), \n",
    "        legend.position = \"none\", \n",
    "        axis.ticks.y = element_blank(), \n",
    "        plot.title = element_text(size=10)) + \n",
    "  coord_flip()"
   ]
  },
  {
   "cell_type": "markdown",
   "metadata": {},
   "source": [
    "## plot"
   ]
  },
  {
   "cell_type": "code",
   "execution_count": 230,
   "metadata": {},
   "outputs": [
    {
     "data": {
      "image/png": "[encoded data removed]",
      "text/plain": [
       "plot without title"
      ]
     },
     "metadata": {
      "image/png": {
       "height": 240,
       "width": 480
      }
     },
     "output_type": "display_data"
    }
   ],
   "source": [
    "options(repr.plot.width=8, repr.plot.height=4)\n",
    "simp"
   ]
  },
  {
   "cell_type": "markdown",
   "metadata": {},
   "source": [
    "# Table S1"
   ]
  },
  {
   "cell_type": "markdown",
   "metadata": {
    "heading_collapsed": true
   },
   "source": [
    "## code"
   ]
  },
  {
   "cell_type": "code",
   "execution_count": 105,
   "metadata": {
    "hidden": true
   },
   "outputs": [
    {
     "name": "stderr",
     "output_type": "stream",
     "text": [
      "Parsed with column specification:\n",
      "cols(\n",
      "  `pri-miRNA` = \u001b[31mcol_character()\u001b[39m,\n",
      "  disease = \u001b[31mcol_character()\u001b[39m,\n",
      "  regulation = \u001b[32mcol_double()\u001b[39m\n",
      ")\n",
      "\n",
      "Parsed with column specification:\n",
      "cols(\n",
      "  Nodes = \u001b[31mcol_character()\u001b[39m,\n",
      "  Category = \u001b[31mcol_character()\u001b[39m\n",
      ")\n",
      "\n",
      "Joining, by = \"disease\"\n",
      "Joining, by = \"pri-miRNA\"\n"
     ]
    }
   ],
   "source": [
    "exp_data <- read_tsv(\"./results/HMDD_tissue.txt\")\n",
    "dcategory <- read_tsv(\"./results/MRDN_nodes_category.txt\")\n",
    "dcategory <- dcategory %>%\n",
    "    rename(disease=Nodes)\n",
    "exp_data <- exp_data %>%\n",
    "    group_by(`pri-miRNA`, disease) %>%\n",
    "    summarize(regulation=sum(regulation)) %>%\n",
    "    filter(regulation != 0) %>%\n",
    "    left_join(dcategory)\n",
    "mir <- exp_data %>%\n",
    "    group_by(`pri-miRNA`) %>%\n",
    "    summarize(count=n()) %>%\n",
    "    arrange(desc(count)) %>%\n",
    "    head(n=10)\n",
    "ts1 <- exp_data %>%\n",
    "    group_by(`pri-miRNA`, Category) %>%\n",
    "    summarize(count=n()) %>%\n",
    "    filter((Category == \"Neoplasms\") | (Category == \"Cardiovascular Diseases\")) %>%\n",
    "    spread(key=Category, value=count) %>%\n",
    "    right_join(mir)"
   ]
  },
  {
   "cell_type": "markdown",
   "metadata": {
    "heading_collapsed": true
   },
   "source": [
    "## table"
   ]
  },
  {
   "cell_type": "code",
   "execution_count": 106,
   "metadata": {
    "hidden": true
   },
   "outputs": [
    {
     "data": {
      "text/html": [
       "<table>\n",
       "<caption>A grouped_df: 10 × 4</caption>\n",
       "<thead>\n",
       "\t<tr><th scope=col>pri-miRNA</th><th scope=col>Cardiovascular Diseases</th><th scope=col>Neoplasms</th><th scope=col>count</th></tr>\n",
       "\t<tr><th scope=col>&lt;chr&gt;</th><th scope=col>&lt;int&gt;</th><th scope=col>&lt;int&gt;</th><th scope=col>&lt;int&gt;</th></tr>\n",
       "</thead>\n",
       "<tbody>\n",
       "\t<tr><td>hsa-mir-21  </td><td>10</td><td>50</td><td>86</td></tr>\n",
       "\t<tr><td>hsa-mir-155 </td><td> 6</td><td>33</td><td>66</td></tr>\n",
       "\t<tr><td>hsa-mir-146a</td><td> 2</td><td>18</td><td>43</td></tr>\n",
       "\t<tr><td>hsa-mir-145 </td><td> 2</td><td>31</td><td>41</td></tr>\n",
       "\t<tr><td>hsa-mir-125b</td><td> 1</td><td>19</td><td>39</td></tr>\n",
       "\t<tr><td>hsa-mir-143 </td><td> 1</td><td>21</td><td>38</td></tr>\n",
       "\t<tr><td>hsa-mir-17  </td><td> 1</td><td>28</td><td>36</td></tr>\n",
       "\t<tr><td>hsa-mir-16  </td><td> 1</td><td>22</td><td>35</td></tr>\n",
       "\t<tr><td>hsa-mir-31  </td><td> 2</td><td>30</td><td>35</td></tr>\n",
       "\t<tr><td>hsa-mir-223 </td><td> 5</td><td>17</td><td>34</td></tr>\n",
       "</tbody>\n",
       "</table>\n"
      ],
      "text/latex": [
       "A grouped\\_df: 10 × 4\n",
       "\\begin{tabular}{llll}\n",
       " pri-miRNA & Cardiovascular Diseases & Neoplasms & count\\\\\n",
       " <chr> & <int> & <int> & <int>\\\\\n",
       "\\hline\n",
       "\t hsa-mir-21   & 10 & 50 & 86\\\\\n",
       "\t hsa-mir-155  &  6 & 33 & 66\\\\\n",
       "\t hsa-mir-146a &  2 & 18 & 43\\\\\n",
       "\t hsa-mir-145  &  2 & 31 & 41\\\\\n",
       "\t hsa-mir-125b &  1 & 19 & 39\\\\\n",
       "\t hsa-mir-143  &  1 & 21 & 38\\\\\n",
       "\t hsa-mir-17   &  1 & 28 & 36\\\\\n",
       "\t hsa-mir-16   &  1 & 22 & 35\\\\\n",
       "\t hsa-mir-31   &  2 & 30 & 35\\\\\n",
       "\t hsa-mir-223  &  5 & 17 & 34\\\\\n",
       "\\end{tabular}\n"
      ],
      "text/markdown": [
       "\n",
       "A grouped_df: 10 × 4\n",
       "\n",
       "| pri-miRNA &lt;chr&gt; | Cardiovascular Diseases &lt;int&gt; | Neoplasms &lt;int&gt; | count &lt;int&gt; |\n",
       "|---|---|---|---|\n",
       "| hsa-mir-21   | 10 | 50 | 86 |\n",
       "| hsa-mir-155  |  6 | 33 | 66 |\n",
       "| hsa-mir-146a |  2 | 18 | 43 |\n",
       "| hsa-mir-145  |  2 | 31 | 41 |\n",
       "| hsa-mir-125b |  1 | 19 | 39 |\n",
       "| hsa-mir-143  |  1 | 21 | 38 |\n",
       "| hsa-mir-17   |  1 | 28 | 36 |\n",
       "| hsa-mir-16   |  1 | 22 | 35 |\n",
       "| hsa-mir-31   |  2 | 30 | 35 |\n",
       "| hsa-mir-223  |  5 | 17 | 34 |\n",
       "\n"
      ],
      "text/plain": [
       "   pri-miRNA    Cardiovascular Diseases Neoplasms count\n",
       "1  hsa-mir-21   10                      50        86   \n",
       "2  hsa-mir-155   6                      33        66   \n",
       "3  hsa-mir-146a  2                      18        43   \n",
       "4  hsa-mir-145   2                      31        41   \n",
       "5  hsa-mir-125b  1                      19        39   \n",
       "6  hsa-mir-143   1                      21        38   \n",
       "7  hsa-mir-17    1                      28        36   \n",
       "8  hsa-mir-16    1                      22        35   \n",
       "9  hsa-mir-31    2                      30        35   \n",
       "10 hsa-mir-223   5                      17        34   "
      ]
     },
     "metadata": {},
     "output_type": "display_data"
    }
   ],
   "source": [
    "ts2"
   ]
  },
  {
   "cell_type": "markdown",
   "metadata": {},
   "source": [
    "# Response "
   ]
  },
  {
   "cell_type": "markdown",
   "metadata": {},
   "source": [
    "## Reviewer 1"
   ]
  },
  {
   "cell_type": "code",
   "execution_count": 39,
   "metadata": {},
   "outputs": [],
   "source": [
    "# Similarity distribution\n",
    "sim_matrix <- read_tsv(\"./results/HMDD_similarity_matrix.txt\", \n",
    "                       col_type=cols(.default=\"d\", disease=\"c\"))"
   ]
  },
  {
   "cell_type": "code",
   "execution_count": 57,
   "metadata": {},
   "outputs": [],
   "source": [
    "sim_matrix_long <- sim_matrix %>%\n",
    "    gather(d2, similarity, -disease) %>%\n",
    "    filter(!disease==d2) %>%\n",
    "    filter(!similarity==0) %>%\n",
    "    mutate(disease_pair=sapply(1:n(), function(x){\n",
    "        paste(sort(c(disease[x], d2[x])), collapse = \";\")\n",
    "    }), .before=1) %>%\n",
    "    select(-disease, -d2) %>%\n",
    "    distinct() %>%\n",
    "    separate(disease_pair, into=c(\"disease1\", \"disease2\"), sep=\";\")"
   ]
  },
  {
   "cell_type": "code",
   "execution_count": 245,
   "metadata": {},
   "outputs": [],
   "source": [
    "dist_sim <- sim_matrix_long %>%\n",
    "    plotDensity(\"similarity\") + \n",
    "    labs(title=\"\")\n",
    "#ggsave(\"./response/1_Distribution_of_disease_similarity.png\", height=4, width=5, units=\"in\", dpi=600)"
   ]
  },
  {
   "cell_type": "code",
   "execution_count": 59,
   "metadata": {},
   "outputs": [],
   "source": [
    "# Top and bottom similarity scores\n",
    "top_sim <- sim_matrix_long %>%\n",
    "    mutate(direction=ifelse(similarity>0, \"similar\", \"opposite\")) %>%\n",
    "    arrange(desc(abs(similarity))) %>%\n",
    "    group_by(direction) %>%\n",
    "    slice(1:10) %>%\n",
    "    arrange(desc(similarity))\n",
    "write_xlsx(top_sim, \"./response/1_Top_similarity.xlsx\")"
   ]
  },
  {
   "cell_type": "code",
   "execution_count": 63,
   "metadata": {
    "collapsed": true
   },
   "outputs": [
    {
     "data": {
      "text/html": [
       "<table>\n",
       "<caption>A tibble: 28 × 3</caption>\n",
       "<thead>\n",
       "\t<tr><th scope=col>disease1</th><th scope=col>disease2</th><th scope=col>similarity</th></tr>\n",
       "\t<tr><th scope=col>&lt;chr&gt;</th><th scope=col>&lt;chr&gt;</th><th scope=col>&lt;dbl&gt;</th></tr>\n",
       "</thead>\n",
       "<tbody>\n",
       "\t<tr><td>Aortic Aneurysm, Abdominal        </td><td>Arthritis, Rheumatoid                           </td><td> 0.22723675</td></tr>\n",
       "\t<tr><td>Aortic Aneurysm, Abdominal        </td><td>Lupus Erythematosus, Systemic                   </td><td> 0.10325398</td></tr>\n",
       "\t<tr><td>Aortic Aneurysm, Abdominal        </td><td>Precursor B-Cell Lymphoblastic Leukemia-Lymphoma</td><td> 0.09308278</td></tr>\n",
       "\t<tr><td>Aortic Aneurysm, Abdominal        </td><td>Sjogren's Syndrome                              </td><td> 0.08837866</td></tr>\n",
       "\t<tr><td>Aortic Aneurysm, Abdominal        </td><td>Chorioamnionitis                                </td><td> 0.08570278</td></tr>\n",
       "\t<tr><td>Aortic Aneurysm, Abdominal        </td><td>Osteoarthritis, Knee                            </td><td> 0.08570278</td></tr>\n",
       "\t<tr><td>Aortic Aneurysm, Abdominal        </td><td>Shock, Hemorrhagic                              </td><td> 0.08318286</td></tr>\n",
       "\t<tr><td>Aortic Aneurysm, Abdominal        </td><td>Lymphoma, Large B-Cell, Diffuse                 </td><td> 0.08258930</td></tr>\n",
       "\t<tr><td>Aortic Aneurysm, Abdominal        </td><td>Carcinoma, Pancreatic                           </td><td> 0.07338528</td></tr>\n",
       "\t<tr><td>Aortic Aneurysm, Abdominal        </td><td>Waldenstrom Macroglobulinemia                   </td><td> 0.06973922</td></tr>\n",
       "\t<tr><td>Aortic Aneurysm, Abdominal        </td><td>Creutzfeldt-Jakob Syndrome                      </td><td> 0.06831298</td></tr>\n",
       "\t<tr><td>Aortic Aneurysm, Abdominal        </td><td>Gerstmann-Straussler-Scheinker Disease          </td><td> 0.06831298</td></tr>\n",
       "\t<tr><td>Aortic Aneurysm, Abdominal        </td><td>Crohn Disease                                   </td><td> 0.06473594</td></tr>\n",
       "\t<tr><td>Aortic Aneurysm, Abdominal        </td><td>Lichen Planus                                   </td><td> 0.06399683</td></tr>\n",
       "\t<tr><td>Aortic Aneurysm, Abdominal        </td><td>Inflammatory Bowel Diseases                     </td><td> 0.06090244</td></tr>\n",
       "\t<tr><td>Aortic Aneurysm, Abdominal        </td><td>Thyroid Carcinoma, Anaplastic                   </td><td> 0.05700103</td></tr>\n",
       "\t<tr><td>Aortic Aneurysm, Abdominal        </td><td>Dermatitis, Atopic                              </td><td> 0.05626923</td></tr>\n",
       "\t<tr><td>Aortic Aneurysm, Abdominal        </td><td>Eosinophilic Esophagitis                        </td><td> 0.05190526</td></tr>\n",
       "\t<tr><td>Aortic Aneurysm, Abdominal        </td><td>Myotonic Dystrophy                              </td><td>-0.05115040</td></tr>\n",
       "\t<tr><td>Aortic Aneurysm, Abdominal        </td><td>Huntington Disease                              </td><td>-0.05362475</td></tr>\n",
       "\t<tr><td>Aortic Aneurysm, Abdominal        </td><td>Diabetic Nephropathies                          </td><td>-0.05519802</td></tr>\n",
       "\t<tr><td>Aortic Aneurysm, Abdominal        </td><td>Myocardial Infarction                           </td><td>-0.05765263</td></tr>\n",
       "\t<tr><td>Aortic Aneurysm, Abdominal        </td><td>Papillomaviridae                                </td><td>-0.06010155</td></tr>\n",
       "\t<tr><td>Aortic Aneurysm, Abdominal        </td><td>Small Cell Lung Carcinoma                       </td><td>-0.07351565</td></tr>\n",
       "\t<tr><td>Aortic Aneurysm, Abdominal        </td><td>Myelodysplastic Syndromes                       </td><td>-0.09776550</td></tr>\n",
       "\t<tr><td>Aortic Aneurysm, Abdominal        </td><td>Osteogenesis Imperfecta                         </td><td>-0.10162514</td></tr>\n",
       "\t<tr><td>Aortic Aneurysm, Abdominal        </td><td>Precursor T-Cell Lymphoblastic Leukemia-Lymphoma</td><td>-0.11643388</td></tr>\n",
       "\t<tr><td>Acquired Immunodeficiency Syndrome</td><td>Aortic Aneurysm, Abdominal                      </td><td>-0.12588424</td></tr>\n",
       "</tbody>\n",
       "</table>\n"
      ],
      "text/latex": [
       "A tibble: 28 × 3\n",
       "\\begin{tabular}{lll}\n",
       " disease1 & disease2 & similarity\\\\\n",
       " <chr> & <chr> & <dbl>\\\\\n",
       "\\hline\n",
       "\t Aortic Aneurysm, Abdominal         & Arthritis, Rheumatoid                            &  0.22723675\\\\\n",
       "\t Aortic Aneurysm, Abdominal         & Lupus Erythematosus, Systemic                    &  0.10325398\\\\\n",
       "\t Aortic Aneurysm, Abdominal         & Precursor B-Cell Lymphoblastic Leukemia-Lymphoma &  0.09308278\\\\\n",
       "\t Aortic Aneurysm, Abdominal         & Sjogren's Syndrome                               &  0.08837866\\\\\n",
       "\t Aortic Aneurysm, Abdominal         & Chorioamnionitis                                 &  0.08570278\\\\\n",
       "\t Aortic Aneurysm, Abdominal         & Osteoarthritis, Knee                             &  0.08570278\\\\\n",
       "\t Aortic Aneurysm, Abdominal         & Shock, Hemorrhagic                               &  0.08318286\\\\\n",
       "\t Aortic Aneurysm, Abdominal         & Lymphoma, Large B-Cell, Diffuse                  &  0.08258930\\\\\n",
       "\t Aortic Aneurysm, Abdominal         & Carcinoma, Pancreatic                            &  0.07338528\\\\\n",
       "\t Aortic Aneurysm, Abdominal         & Waldenstrom Macroglobulinemia                    &  0.06973922\\\\\n",
       "\t Aortic Aneurysm, Abdominal         & Creutzfeldt-Jakob Syndrome                       &  0.06831298\\\\\n",
       "\t Aortic Aneurysm, Abdominal         & Gerstmann-Straussler-Scheinker Disease           &  0.06831298\\\\\n",
       "\t Aortic Aneurysm, Abdominal         & Crohn Disease                                    &  0.06473594\\\\\n",
       "\t Aortic Aneurysm, Abdominal         & Lichen Planus                                    &  0.06399683\\\\\n",
       "\t Aortic Aneurysm, Abdominal         & Inflammatory Bowel Diseases                      &  0.06090244\\\\\n",
       "\t Aortic Aneurysm, Abdominal         & Thyroid Carcinoma, Anaplastic                    &  0.05700103\\\\\n",
       "\t Aortic Aneurysm, Abdominal         & Dermatitis, Atopic                               &  0.05626923\\\\\n",
       "\t Aortic Aneurysm, Abdominal         & Eosinophilic Esophagitis                         &  0.05190526\\\\\n",
       "\t Aortic Aneurysm, Abdominal         & Myotonic Dystrophy                               & -0.05115040\\\\\n",
       "\t Aortic Aneurysm, Abdominal         & Huntington Disease                               & -0.05362475\\\\\n",
       "\t Aortic Aneurysm, Abdominal         & Diabetic Nephropathies                           & -0.05519802\\\\\n",
       "\t Aortic Aneurysm, Abdominal         & Myocardial Infarction                            & -0.05765263\\\\\n",
       "\t Aortic Aneurysm, Abdominal         & Papillomaviridae                                 & -0.06010155\\\\\n",
       "\t Aortic Aneurysm, Abdominal         & Small Cell Lung Carcinoma                        & -0.07351565\\\\\n",
       "\t Aortic Aneurysm, Abdominal         & Myelodysplastic Syndromes                        & -0.09776550\\\\\n",
       "\t Aortic Aneurysm, Abdominal         & Osteogenesis Imperfecta                          & -0.10162514\\\\\n",
       "\t Aortic Aneurysm, Abdominal         & Precursor T-Cell Lymphoblastic Leukemia-Lymphoma & -0.11643388\\\\\n",
       "\t Acquired Immunodeficiency Syndrome & Aortic Aneurysm, Abdominal                       & -0.12588424\\\\\n",
       "\\end{tabular}\n"
      ],
      "text/markdown": [
       "\n",
       "A tibble: 28 × 3\n",
       "\n",
       "| disease1 &lt;chr&gt; | disease2 &lt;chr&gt; | similarity &lt;dbl&gt; |\n",
       "|---|---|---|\n",
       "| Aortic Aneurysm, Abdominal         | Arthritis, Rheumatoid                            |  0.22723675 |\n",
       "| Aortic Aneurysm, Abdominal         | Lupus Erythematosus, Systemic                    |  0.10325398 |\n",
       "| Aortic Aneurysm, Abdominal         | Precursor B-Cell Lymphoblastic Leukemia-Lymphoma |  0.09308278 |\n",
       "| Aortic Aneurysm, Abdominal         | Sjogren's Syndrome                               |  0.08837866 |\n",
       "| Aortic Aneurysm, Abdominal         | Chorioamnionitis                                 |  0.08570278 |\n",
       "| Aortic Aneurysm, Abdominal         | Osteoarthritis, Knee                             |  0.08570278 |\n",
       "| Aortic Aneurysm, Abdominal         | Shock, Hemorrhagic                               |  0.08318286 |\n",
       "| Aortic Aneurysm, Abdominal         | Lymphoma, Large B-Cell, Diffuse                  |  0.08258930 |\n",
       "| Aortic Aneurysm, Abdominal         | Carcinoma, Pancreatic                            |  0.07338528 |\n",
       "| Aortic Aneurysm, Abdominal         | Waldenstrom Macroglobulinemia                    |  0.06973922 |\n",
       "| Aortic Aneurysm, Abdominal         | Creutzfeldt-Jakob Syndrome                       |  0.06831298 |\n",
       "| Aortic Aneurysm, Abdominal         | Gerstmann-Straussler-Scheinker Disease           |  0.06831298 |\n",
       "| Aortic Aneurysm, Abdominal         | Crohn Disease                                    |  0.06473594 |\n",
       "| Aortic Aneurysm, Abdominal         | Lichen Planus                                    |  0.06399683 |\n",
       "| Aortic Aneurysm, Abdominal         | Inflammatory Bowel Diseases                      |  0.06090244 |\n",
       "| Aortic Aneurysm, Abdominal         | Thyroid Carcinoma, Anaplastic                    |  0.05700103 |\n",
       "| Aortic Aneurysm, Abdominal         | Dermatitis, Atopic                               |  0.05626923 |\n",
       "| Aortic Aneurysm, Abdominal         | Eosinophilic Esophagitis                         |  0.05190526 |\n",
       "| Aortic Aneurysm, Abdominal         | Myotonic Dystrophy                               | -0.05115040 |\n",
       "| Aortic Aneurysm, Abdominal         | Huntington Disease                               | -0.05362475 |\n",
       "| Aortic Aneurysm, Abdominal         | Diabetic Nephropathies                           | -0.05519802 |\n",
       "| Aortic Aneurysm, Abdominal         | Myocardial Infarction                            | -0.05765263 |\n",
       "| Aortic Aneurysm, Abdominal         | Papillomaviridae                                 | -0.06010155 |\n",
       "| Aortic Aneurysm, Abdominal         | Small Cell Lung Carcinoma                        | -0.07351565 |\n",
       "| Aortic Aneurysm, Abdominal         | Myelodysplastic Syndromes                        | -0.09776550 |\n",
       "| Aortic Aneurysm, Abdominal         | Osteogenesis Imperfecta                          | -0.10162514 |\n",
       "| Aortic Aneurysm, Abdominal         | Precursor T-Cell Lymphoblastic Leukemia-Lymphoma | -0.11643388 |\n",
       "| Acquired Immunodeficiency Syndrome | Aortic Aneurysm, Abdominal                       | -0.12588424 |\n",
       "\n"
      ],
      "text/plain": [
       "   disease1                          \n",
       "1  Aortic Aneurysm, Abdominal        \n",
       "2  Aortic Aneurysm, Abdominal        \n",
       "3  Aortic Aneurysm, Abdominal        \n",
       "4  Aortic Aneurysm, Abdominal        \n",
       "5  Aortic Aneurysm, Abdominal        \n",
       "6  Aortic Aneurysm, Abdominal        \n",
       "7  Aortic Aneurysm, Abdominal        \n",
       "8  Aortic Aneurysm, Abdominal        \n",
       "9  Aortic Aneurysm, Abdominal        \n",
       "10 Aortic Aneurysm, Abdominal        \n",
       "11 Aortic Aneurysm, Abdominal        \n",
       "12 Aortic Aneurysm, Abdominal        \n",
       "13 Aortic Aneurysm, Abdominal        \n",
       "14 Aortic Aneurysm, Abdominal        \n",
       "15 Aortic Aneurysm, Abdominal        \n",
       "16 Aortic Aneurysm, Abdominal        \n",
       "17 Aortic Aneurysm, Abdominal        \n",
       "18 Aortic Aneurysm, Abdominal        \n",
       "19 Aortic Aneurysm, Abdominal        \n",
       "20 Aortic Aneurysm, Abdominal        \n",
       "21 Aortic Aneurysm, Abdominal        \n",
       "22 Aortic Aneurysm, Abdominal        \n",
       "23 Aortic Aneurysm, Abdominal        \n",
       "24 Aortic Aneurysm, Abdominal        \n",
       "25 Aortic Aneurysm, Abdominal        \n",
       "26 Aortic Aneurysm, Abdominal        \n",
       "27 Aortic Aneurysm, Abdominal        \n",
       "28 Acquired Immunodeficiency Syndrome\n",
       "   disease2                                         similarity \n",
       "1  Arthritis, Rheumatoid                             0.22723675\n",
       "2  Lupus Erythematosus, Systemic                     0.10325398\n",
       "3  Precursor B-Cell Lymphoblastic Leukemia-Lymphoma  0.09308278\n",
       "4  Sjogren's Syndrome                                0.08837866\n",
       "5  Chorioamnionitis                                  0.08570278\n",
       "6  Osteoarthritis, Knee                              0.08570278\n",
       "7  Shock, Hemorrhagic                                0.08318286\n",
       "8  Lymphoma, Large B-Cell, Diffuse                   0.08258930\n",
       "9  Carcinoma, Pancreatic                             0.07338528\n",
       "10 Waldenstrom Macroglobulinemia                     0.06973922\n",
       "11 Creutzfeldt-Jakob Syndrome                        0.06831298\n",
       "12 Gerstmann-Straussler-Scheinker Disease            0.06831298\n",
       "13 Crohn Disease                                     0.06473594\n",
       "14 Lichen Planus                                     0.06399683\n",
       "15 Inflammatory Bowel Diseases                       0.06090244\n",
       "16 Thyroid Carcinoma, Anaplastic                     0.05700103\n",
       "17 Dermatitis, Atopic                                0.05626923\n",
       "18 Eosinophilic Esophagitis                          0.05190526\n",
       "19 Myotonic Dystrophy                               -0.05115040\n",
       "20 Huntington Disease                               -0.05362475\n",
       "21 Diabetic Nephropathies                           -0.05519802\n",
       "22 Myocardial Infarction                            -0.05765263\n",
       "23 Papillomaviridae                                 -0.06010155\n",
       "24 Small Cell Lung Carcinoma                        -0.07351565\n",
       "25 Myelodysplastic Syndromes                        -0.09776550\n",
       "26 Osteogenesis Imperfecta                          -0.10162514\n",
       "27 Precursor T-Cell Lymphoblastic Leukemia-Lymphoma -0.11643388\n",
       "28 Aortic Aneurysm, Abdominal                       -0.12588424"
      ]
     },
     "metadata": {},
     "output_type": "display_data"
    }
   ],
   "source": [
    "aaa <- \"Aortic Aneurysm, Abdominal\"\n",
    "sim_matrix_long %>%\n",
    "    filter(disease1==aaa|disease2==aaa) %>%\n",
    "    filter(abs(similarity)>0.05) %>%\n",
    "    arrange(desc(similarity))"
   ]
  },
  {
   "cell_type": "markdown",
   "metadata": {},
   "source": [
    "1. miRNA-Disease Score Distribution"
   ]
  },
  {
   "cell_type": "code",
   "execution_count": 4,
   "metadata": {},
   "outputs": [],
   "source": [
    "weight_matrix <- read_tsv(\"./results/HMDD_weight_matrix.txt\", \n",
    "                          col_type=cols(.default=\"d\", disease=\"c\"))"
   ]
  },
  {
   "cell_type": "code",
   "execution_count": 35,
   "metadata": {},
   "outputs": [],
   "source": [
    "weight_matrix_long <- weight_matrix %>%\n",
    "    gather(miRNA, weight, -disease) %>%\n",
    "    filter(weight!=0) "
   ]
  },
  {
   "cell_type": "code",
   "execution_count": 268,
   "metadata": {},
   "outputs": [],
   "source": [
    "dist_weight <- weight_matrix_long %>%\n",
    "    plotDensity(\"weight\") + \n",
    "    scale_x_continuous(breaks=seq(-25, 50, by=10)) + \n",
    "    labs(title=\"\", x=\"Weights\")\n",
    "#ggsave(\"./response/1_Distribution_of_miRNA_Weights.png\", height=4, width=5, units=\"in\", dpi=600)"
   ]
  },
  {
   "cell_type": "code",
   "execution_count": 32,
   "metadata": {},
   "outputs": [],
   "source": [
    "# Top and bottom miRNA disease scores\n",
    "top_weight <- weight_matrix_long %>%\n",
    "    mutate(direction=ifelse(weight>0, \"upregulated\", \"downregulated\")) %>%\n",
    "    arrange(desc(abs(weight))) %>%\n",
    "    group_by(direction) %>%\n",
    "    slice(1:10) %>%\n",
    "    arrange(desc(weight))\n",
    "write_xlsx(top_weight, \"./response/1_Top_weights.xlsx\")"
   ]
  },
  {
   "cell_type": "code",
   "execution_count": 65,
   "metadata": {},
   "outputs": [],
   "source": [
    "weight_matrix_long %>%\n",
    "    mutate(direction=ifelse(weight>0, \"upregulated\", \"downregulated\")) %>%\n",
    "    filter(disease==\"Aortic Aneurysm, Abdominal\") %>%\n",
    "    write_xlsx(\"./response/1_AAA_miRNA_weights.xlsx\")"
   ]
  },
  {
   "cell_type": "code",
   "execution_count": 274,
   "metadata": {},
   "outputs": [],
   "source": [
    "# All miRNA disease scores\n",
    "all_weight <- weight_matrix_long %>%\n",
    "    mutate(direction=ifelse(weight>0, \"upregulated\", \"downregulated\")) %>%\n",
    "    arrange(desc(abs(weight))) %>%\n",
    "    group_by(direction) %>%\n",
    "    arrange(desc(weight))\n",
    "write_xlsx(all_weight, \"./response/1_All_weights.xlsx\")"
   ]
  },
  {
   "cell_type": "markdown",
   "metadata": {},
   "source": [
    "3. Plot all distributions"
   ]
  },
  {
   "cell_type": "code",
   "execution_count": 137,
   "metadata": {
    "collapsed": true
   },
   "outputs": [
    {
     "name": "stderr",
     "output_type": "stream",
     "text": [
      "\n",
      "\u001b[36m──\u001b[39m \u001b[1m\u001b[1mColumn specification\u001b[1m\u001b[22m \u001b[36m────────────────────────────────────────────────────────────────────────────────────────────────────────────────────────────────────────────────────\u001b[39m\n",
      "cols(\n",
      "  Nodes = \u001b[31mcol_character()\u001b[39m,\n",
      "  Category = \u001b[31mcol_character()\u001b[39m,\n",
      "  Degree = \u001b[32mcol_double()\u001b[39m,\n",
      "  Positive_Edge = \u001b[32mcol_double()\u001b[39m,\n",
      "  Negative_Edge = \u001b[32mcol_double()\u001b[39m,\n",
      "  Cluster_Coefficient = \u001b[32mcol_double()\u001b[39m\n",
      ")\n",
      "\n",
      "\n"
     ]
    }
   ],
   "source": [
    "nodes <- read_tsv(\"./results/MRDN_nodes_property.txt\")\n",
    "\n",
    "edges <- read_tsv(\"./results/MRDN_edges.txt\")"
   ]
  },
  {
   "cell_type": "code",
   "execution_count": 269,
   "metadata": {},
   "outputs": [],
   "source": [
    "fields <- c(\"Degree\", \"Positive_Edge\", \"Negative_Edge\", \"Cluster_Coefficient\")\n",
    "pl <- lapply(fields, function(x){\n",
    "    nodes %>%\n",
    "    plotDensity(x) + \n",
    "    labs(title=\"\", x=str_replace(x, \"_\", \" \"))\n",
    "})"
   ]
  },
  {
   "cell_type": "code",
   "execution_count": 270,
   "metadata": {},
   "outputs": [],
   "source": [
    "pl$dist_weight <- dist_weight\n",
    "pl$dist_sim <- dist_sim"
   ]
  },
  {
   "cell_type": "code",
   "execution_count": 277,
   "metadata": {},
   "outputs": [
    {
     "data": {
      "image/png": "[encoded data removed]",
      "text/plain": [
       "plot without title"
      ]
     },
     "metadata": {
      "image/png": {
       "height": 300,
       "width": 360
      }
     },
     "output_type": "display_data"
    }
   ],
   "source": [
    "ggpubr::ggarrange(plotlist = pl, ncol=3, nrow=2, labels=c(\"A\", \"B\", \"C\", \"D\", \"E\", \"F\"))\n",
    "ggsave(\"./response/suppfig_2.png\", height=5, width=9, units=\"in\", dpi=600)"
   ]
  },
  {
   "cell_type": "markdown",
   "metadata": {},
   "source": [
    "## Reviewer 2"
   ]
  },
  {
   "cell_type": "markdown",
   "metadata": {},
   "source": [
    "1. Narrow down process"
   ]
  },
  {
   "cell_type": "code",
   "execution_count": 137,
   "metadata": {
    "collapsed": true
   },
   "outputs": [
    {
     "name": "stderr",
     "output_type": "stream",
     "text": [
      "\n",
      "\u001b[36m──\u001b[39m \u001b[1m\u001b[1mColumn specification\u001b[1m\u001b[22m \u001b[36m────────────────────────────────────────────────────────────────────────────────────────────────────────────────────────────────────────────────────\u001b[39m\n",
      "cols(\n",
      "  Nodes = \u001b[31mcol_character()\u001b[39m,\n",
      "  Category = \u001b[31mcol_character()\u001b[39m,\n",
      "  Degree = \u001b[32mcol_double()\u001b[39m,\n",
      "  Positive_Edge = \u001b[32mcol_double()\u001b[39m,\n",
      "  Negative_Edge = \u001b[32mcol_double()\u001b[39m,\n",
      "  Cluster_Coefficient = \u001b[32mcol_double()\u001b[39m\n",
      ")\n",
      "\n",
      "\n"
     ]
    }
   ],
   "source": [
    "nodes <- read_tsv(\"./results/MRDN_nodes_property.txt\")\n",
    "\n",
    "edges <- read_tsv(\"./results/MRDN_edges.txt\")"
   ]
  },
  {
   "cell_type": "code",
   "execution_count": 195,
   "metadata": {},
   "outputs": [],
   "source": [
    "neighbors <- lapply(nodes$Nodes, function(x){\n",
    "    neighbor_edges <- edges %>%\n",
    "        filter(Disease1==x|Disease2==x)\n",
    "    tibble(Node=x, Neighbor=setdiff(unique(c(neighbor_edges$Disease1, neighbor_edges$Disease2)), x)) %>%\n",
    "        left_join(rename(nodes[, 1:2], Node=Nodes), by=\"Node\") %>%\n",
    "        left_join(rename(nodes[, 1:2], Neighbor=Nodes, Neighbor_Cate=Category), by=\"Neighbor\")\n",
    "}) %>% bind_rows()"
   ]
  },
  {
   "cell_type": "code",
   "execution_count": 196,
   "metadata": {},
   "outputs": [],
   "source": [
    "get_most_cate <- function(x){\n",
    "    tmp <- tibble(x=x) %>%\n",
    "        group_by(x) %>%\n",
    "        summarise(n=n(), .groups=\"drop\") %>%\n",
    "        filter(n==max(n))\n",
    "    tmp\n",
    "}"
   ]
  },
  {
   "cell_type": "code",
   "execution_count": 197,
   "metadata": {},
   "outputs": [],
   "source": [
    "getEntropy <- function(x){\n",
    "    p <- rle(sort(x))$length/length(x)\n",
    "    ent <- -sum(p*log2(p))\n",
    "    return(ent)\n",
    "}"
   ]
  },
  {
   "cell_type": "code",
   "execution_count": 198,
   "metadata": {},
   "outputs": [],
   "source": [
    "neighbor_info <- neighbors %>%\n",
    "    group_by(Node) %>%\n",
    "    summarise(same_cate_neighbor=sum(Category==Neighbor_Cate), \n",
    "              entropy=getEntropy(Neighbor_Cate), \n",
    "              top_cate_neighbor=get_most_cate(Neighbor_Cate)$x, \n",
    "              top_cate_number=get_most_cate(Neighbor_Cate)$n, \n",
    "              .groups=\"drop\") %>%\n",
    "    arrange(desc(same_cate_neighbor)) %>%\n",
    "    left_join(nodes %>% rename(Node=Nodes), by=\"Node\")"
   ]
  },
  {
   "cell_type": "code",
   "execution_count": 206,
   "metadata": {},
   "outputs": [],
   "source": [
    "neighbor_info %>%\n",
    "    select(Node, Category, Degree, same_cate_neighbor, top_cate_neighbor, top_cate_number) %>%\n",
    "    rename(Neighbors_from_same_category = same_cate_neighbor, \n",
    "           Top_category_of_neighbors = top_cate_neighbor, \n",
    "           Neighbors_from_top_category = top_cate_number) %>%\n",
    "    write_xlsx(\"./response/2_5_Neighbor_Categories.xlsx\")"
   ]
  },
  {
   "cell_type": "code",
   "execution_count": 217,
   "metadata": {},
   "outputs": [],
   "source": [
    "neighbor_info %>%\n",
    "    filter(top_cate_neighbor != Category) %>%\n",
    "    #filter(top_cate_neighbor==\"Neoplasms\") %>%\n",
    "    filter(Category==\"Cardiovascular Diseases\") %>%\n",
    "    arrange(desc(top_cate_number)) %>%\n",
    "    select(Node, Category, Degree, same_cate_neighbor, top_cate_neighbor, top_cate_number) %>%\n",
    "    rename(Neighbors_from_same_category = same_cate_neighbor, \n",
    "           Top_category_of_neighbors = top_cate_neighbor, \n",
    "           Neighbors_from_top_category = top_cate_number) %>%\n",
    "    write_xlsx(\"./response/2_5_Neighbor_Categories_cardiac.xlsx\")"
   ]
  },
  {
   "cell_type": "code",
   "execution_count": 239,
   "metadata": {
    "collapsed": true
   },
   "outputs": [
    {
     "data": {
      "text/html": [
       "<table>\n",
       "<caption>A tibble: 127 × 10</caption>\n",
       "<thead>\n",
       "\t<tr><th scope=col>Node</th><th scope=col>same_cate_neighbor</th><th scope=col>entropy</th><th scope=col>top_cate_neighbor</th><th scope=col>top_cate_number</th><th scope=col>Category</th><th scope=col>Degree</th><th scope=col>Positive_Edge</th><th scope=col>Negative_Edge</th><th scope=col>Cluster_Coefficient</th></tr>\n",
       "\t<tr><th scope=col>&lt;chr&gt;</th><th scope=col>&lt;int&gt;</th><th scope=col>&lt;dbl&gt;</th><th scope=col>&lt;chr&gt;</th><th scope=col>&lt;int&gt;</th><th scope=col>&lt;chr&gt;</th><th scope=col>&lt;dbl&gt;</th><th scope=col>&lt;dbl&gt;</th><th scope=col>&lt;dbl&gt;</th><th scope=col>&lt;dbl&gt;</th></tr>\n",
       "</thead>\n",
       "<tbody>\n",
       "\t<tr><td>Pituitary Neoplasms                             </td><td>6</td><td>2.595476</td><td>Cardiovascular Diseases            </td><td>10</td><td>Neoplasms                                      </td><td>26</td><td>16</td><td>10</td><td>0.3292308</td></tr>\n",
       "\t<tr><td>Lupus Erythematosus, Systemic                   </td><td>8</td><td>3.128706</td><td>Nervous System Diseases            </td><td> 9</td><td>Immune System Diseases                         </td><td>51</td><td>33</td><td>18</td><td>0.2839216</td></tr>\n",
       "\t<tr><td>Rhabdomyosarcoma                                </td><td>3</td><td>2.510900</td><td>Cardiovascular Diseases            </td><td> 8</td><td>Neoplasms                                      </td><td>21</td><td> 7</td><td>14</td><td>0.5428571</td></tr>\n",
       "\t<tr><td>Musculoskeletal Abnormalities                   </td><td>0</td><td>2.490602</td><td>Cardiovascular Diseases            </td><td> 8</td><td>Musculoskeletal Diseases                       </td><td>24</td><td>16</td><td> 8</td><td>0.4528986</td></tr>\n",
       "\t<tr><td>Aortic Aneurysm, Abdominal                      </td><td>1</td><td>3.051596</td><td>Immune System Diseases             </td><td> 7</td><td>Cardiovascular Diseases                        </td><td>28</td><td>18</td><td>10</td><td>0.3571429</td></tr>\n",
       "\t<tr><td>Thrombocythemia, Essential                      </td><td>1</td><td>2.437066</td><td>Cardiovascular Diseases            </td><td> 7</td><td>Hemic and Lymphatic Diseases                   </td><td>19</td><td>13</td><td> 6</td><td>0.6023392</td></tr>\n",
       "\t<tr><td>Thyroid Carcinoma, Anaplastic                   </td><td>5</td><td>3.290704</td><td>Cardiovascular Diseases            </td><td> 6</td><td>Neoplasms                                      </td><td>37</td><td>23</td><td>14</td><td>0.3603604</td></tr>\n",
       "\t<tr><td>Thyroid Carcinoma, Anaplastic                   </td><td>5</td><td>3.290704</td><td>Nervous System Diseases            </td><td> 6</td><td>Neoplasms                                      </td><td>37</td><td>23</td><td>14</td><td>0.3603604</td></tr>\n",
       "\t<tr><td>Crohn Disease                                   </td><td>0</td><td>2.772185</td><td>Immune System Diseases             </td><td> 6</td><td>Digestive System Diseases                      </td><td>22</td><td>15</td><td> 7</td><td>0.5064935</td></tr>\n",
       "\t<tr><td>Sjogren's Syndrome                              </td><td>3</td><td>3.319043</td><td>Nervous System Diseases            </td><td> 5</td><td>Immune System Diseases                         </td><td>29</td><td>20</td><td> 9</td><td>0.4359606</td></tr>\n",
       "\t<tr><td>Endotoxemia                                     </td><td>1</td><td>3.090200</td><td>Immune System Diseases             </td><td> 5</td><td>Bacterial Infections and Mycoses               </td><td>24</td><td>10</td><td>14</td><td>0.2536232</td></tr>\n",
       "\t<tr><td>Precursor B-Cell Lymphoblastic Leukemia-Lymphoma</td><td>1</td><td>1.879965</td><td>Cardiovascular Diseases            </td><td> 5</td><td>Neoplasms                                      </td><td> 9</td><td> 4</td><td> 5</td><td>0.5833333</td></tr>\n",
       "\t<tr><td>Shock, Hemorrhagic                              </td><td>1</td><td>2.441630</td><td>Cardiovascular Diseases            </td><td> 5</td><td>Others                                         </td><td>13</td><td> 5</td><td> 8</td><td>0.3974359</td></tr>\n",
       "\t<tr><td>Tuberculosis                                    </td><td>1</td><td>3.116409</td><td>Nervous System Diseases            </td><td> 5</td><td>Bacterial Infections and Mycoses               </td><td>23</td><td> 8</td><td>15</td><td>0.4624506</td></tr>\n",
       "\t<tr><td>Liver Cirrhosis, Biliary                        </td><td>0</td><td>2.005978</td><td>Cardiovascular Diseases            </td><td> 5</td><td>Digestive System Diseases                      </td><td>14</td><td> 9</td><td> 5</td><td>0.4505495</td></tr>\n",
       "\t<tr><td>Leukemia, Myelogenous, Chronic, BCR-ABL Positive</td><td>4</td><td>2.655051</td><td>Immune System Diseases             </td><td> 4</td><td>Neoplasms                                      </td><td>19</td><td> 4</td><td>15</td><td>0.5029240</td></tr>\n",
       "\t<tr><td>Huntington Disease                              </td><td>3</td><td>3.155565</td><td>Immune System Diseases             </td><td> 4</td><td>Nervous System Diseases                        </td><td>19</td><td> 6</td><td>13</td><td>0.6842105</td></tr>\n",
       "\t<tr><td>Creutzfeldt-Jakob Syndrome                      </td><td>2</td><td>3.000000</td><td>Immune System Diseases             </td><td> 4</td><td>Nervous System Diseases                        </td><td>16</td><td>10</td><td> 6</td><td>0.8583333</td></tr>\n",
       "\t<tr><td>Down Syndrome                                   </td><td>2</td><td>2.530493</td><td>Immune System Diseases             </td><td> 4</td><td>Nervous System Diseases                        </td><td>18</td><td>16</td><td> 2</td><td>0.8431373</td></tr>\n",
       "\t<tr><td>Gaucher Disease                                 </td><td>2</td><td>2.530493</td><td>Immune System Diseases             </td><td> 4</td><td>Nervous System Diseases                        </td><td>18</td><td>16</td><td> 2</td><td>0.8431373</td></tr>\n",
       "\t<tr><td>Gerstmann-Straussler-Scheinker Disease          </td><td>2</td><td>3.000000</td><td>Immune System Diseases             </td><td> 4</td><td>Nervous System Diseases                        </td><td>16</td><td>10</td><td> 6</td><td>0.8583333</td></tr>\n",
       "\t<tr><td>Hepatoblastoma                                  </td><td>2</td><td>1.378783</td><td>Nervous System Diseases            </td><td> 4</td><td>Neoplasms                                      </td><td> 7</td><td> 3</td><td> 4</td><td>0.3333333</td></tr>\n",
       "\t<tr><td>HIV Infections                                  </td><td>2</td><td>3.127987</td><td>Cardiovascular Diseases            </td><td> 4</td><td>Immune System Diseases                         </td><td>18</td><td> 9</td><td> 9</td><td>0.2875817</td></tr>\n",
       "\t<tr><td>Hypertrophy                                     </td><td>2</td><td>2.610577</td><td>Cardiovascular Diseases            </td><td> 4</td><td>Others                                         </td><td>14</td><td>10</td><td> 4</td><td>0.7472527</td></tr>\n",
       "\t<tr><td>Periodontal Diseases                            </td><td>2</td><td>3.246439</td><td>Immune System Diseases             </td><td> 4</td><td>Others                                         </td><td>20</td><td> 8</td><td>12</td><td>0.4210526</td></tr>\n",
       "\t<tr><td>Amyotrophic Lateral Sclerosis                   </td><td>1</td><td>2.946439</td><td>Immune System Diseases             </td><td> 4</td><td>Nervous System Diseases                        </td><td>20</td><td>11</td><td> 9</td><td>0.5526316</td></tr>\n",
       "\t<tr><td>Amyotrophic Lateral Sclerosis                   </td><td>1</td><td>2.946439</td><td>Skin and Connective Tissue Diseases</td><td> 4</td><td>Nervous System Diseases                        </td><td>20</td><td>11</td><td> 9</td><td>0.5526316</td></tr>\n",
       "\t<tr><td>Hepatitis C, Chronic                            </td><td>1</td><td>2.058814</td><td>Cardiovascular Diseases            </td><td> 4</td><td>Virus Diseases                                 </td><td> 9</td><td> 7</td><td> 2</td><td>0.1944444</td></tr>\n",
       "\t<tr><td>Kidney Diseases                                 </td><td>1</td><td>2.046439</td><td>Cardiovascular Diseases            </td><td> 4</td><td>Urogenital Diseases and Pregnancy Complications</td><td>10</td><td> 7</td><td> 3</td><td>0.8000000</td></tr>\n",
       "\t<tr><td>Papillomaviridae                                </td><td>1</td><td>2.952820</td><td>Immune System Diseases             </td><td> 4</td><td>Others                                         </td><td>16</td><td> 5</td><td>11</td><td>0.8583333</td></tr>\n",
       "\t<tr><td>⋮</td><td>⋮</td><td>⋮</td><td>⋮</td><td>⋮</td><td>⋮</td><td>⋮</td><td>⋮</td><td>⋮</td><td>⋮</td></tr>\n",
       "\t<tr><td>Glaucoma                              </td><td>0</td><td>2.000000</td><td>Virus Diseases                                 </td><td>1</td><td>Others                                         </td><td>4</td><td>0</td><td>4</td><td>1.0000000</td></tr>\n",
       "\t<tr><td>Hematologic Neoplasms                 </td><td>0</td><td>1.000000</td><td>Cardiovascular Diseases                        </td><td>1</td><td>Neoplasms                                      </td><td>2</td><td>1</td><td>1</td><td>0.0000000</td></tr>\n",
       "\t<tr><td>Hematologic Neoplasms                 </td><td>0</td><td>1.000000</td><td>Nervous System Diseases                        </td><td>1</td><td>Neoplasms                                      </td><td>2</td><td>1</td><td>1</td><td>0.0000000</td></tr>\n",
       "\t<tr><td>Hepatitis B, Chronic                  </td><td>0</td><td>2.000000</td><td>Others                                         </td><td>1</td><td>Virus Diseases                                 </td><td>4</td><td>2</td><td>2</td><td>0.6666667</td></tr>\n",
       "\t<tr><td>Hepatitis B, Chronic                  </td><td>0</td><td>2.000000</td><td>Parasitic Diseases                             </td><td>1</td><td>Virus Diseases                                 </td><td>4</td><td>2</td><td>2</td><td>0.6666667</td></tr>\n",
       "\t<tr><td>Hepatitis B, Chronic                  </td><td>0</td><td>2.000000</td><td>Skin and Connective Tissue Diseases            </td><td>1</td><td>Virus Diseases                                 </td><td>4</td><td>2</td><td>2</td><td>0.6666667</td></tr>\n",
       "\t<tr><td>Idiopathic Pulmonary Fibrosis         </td><td>0</td><td>1.000000</td><td>Digestive System Diseases                      </td><td>1</td><td>Respiratory Tract Diseases                     </td><td>2</td><td>2</td><td>0</td><td>1.0000000</td></tr>\n",
       "\t<tr><td>Infertility                           </td><td>0</td><td>2.000000</td><td>Cardiovascular Diseases                        </td><td>1</td><td>Urogenital Diseases and Pregnancy Complications</td><td>4</td><td>2</td><td>2</td><td>0.1666667</td></tr>\n",
       "\t<tr><td>Infertility                           </td><td>0</td><td>2.000000</td><td>Digestive System Diseases                      </td><td>1</td><td>Urogenital Diseases and Pregnancy Complications</td><td>4</td><td>2</td><td>2</td><td>0.1666667</td></tr>\n",
       "\t<tr><td>Infertility                           </td><td>0</td><td>2.000000</td><td>Nervous System Diseases                        </td><td>1</td><td>Urogenital Diseases and Pregnancy Complications</td><td>4</td><td>2</td><td>2</td><td>0.1666667</td></tr>\n",
       "\t<tr><td>Infertility                           </td><td>0</td><td>2.000000</td><td>Nutritional and Metabolic Diseases             </td><td>1</td><td>Urogenital Diseases and Pregnancy Complications</td><td>4</td><td>2</td><td>2</td><td>0.1666667</td></tr>\n",
       "\t<tr><td>Intervertebral Disc Degeneration      </td><td>0</td><td>2.000000</td><td>Nutritional and Metabolic Diseases             </td><td>1</td><td>Musculoskeletal Diseases                       </td><td>4</td><td>3</td><td>1</td><td>1.0000000</td></tr>\n",
       "\t<tr><td>Intervertebral Disc Degeneration      </td><td>0</td><td>2.000000</td><td>Others                                         </td><td>1</td><td>Musculoskeletal Diseases                       </td><td>4</td><td>3</td><td>1</td><td>1.0000000</td></tr>\n",
       "\t<tr><td>Intervertebral Disc Degeneration      </td><td>0</td><td>2.000000</td><td>Virus Diseases                                 </td><td>1</td><td>Musculoskeletal Diseases                       </td><td>4</td><td>3</td><td>1</td><td>1.0000000</td></tr>\n",
       "\t<tr><td>Leukemia, Myeloid                     </td><td>0</td><td>0.000000</td><td>Nervous System Diseases                        </td><td>1</td><td>Neoplasms                                      </td><td>1</td><td>1</td><td>0</td><td>0.0000000</td></tr>\n",
       "\t<tr><td>Osteoporosis                          </td><td>0</td><td>2.000000</td><td>Musculoskeletal Diseases                       </td><td>1</td><td>Nutritional and Metabolic Diseases             </td><td>4</td><td>3</td><td>1</td><td>1.0000000</td></tr>\n",
       "\t<tr><td>Osteoporosis                          </td><td>0</td><td>2.000000</td><td>Others                                         </td><td>1</td><td>Nutritional and Metabolic Diseases             </td><td>4</td><td>3</td><td>1</td><td>1.0000000</td></tr>\n",
       "\t<tr><td>Osteoporosis                          </td><td>0</td><td>2.000000</td><td>Virus Diseases                                 </td><td>1</td><td>Nutritional and Metabolic Diseases             </td><td>4</td><td>3</td><td>1</td><td>1.0000000</td></tr>\n",
       "\t<tr><td>Salmonella Infections                 </td><td>0</td><td>1.584963</td><td>Immune System Diseases                         </td><td>1</td><td>Bacterial Infections and Mycoses               </td><td>3</td><td>2</td><td>1</td><td>1.0000000</td></tr>\n",
       "\t<tr><td>Salmonella Infections                 </td><td>0</td><td>1.584963</td><td>Nervous System Diseases                        </td><td>1</td><td>Bacterial Infections and Mycoses               </td><td>3</td><td>2</td><td>1</td><td>1.0000000</td></tr>\n",
       "\t<tr><td>Salmonella Infections                 </td><td>0</td><td>1.584963</td><td>Urogenital Diseases and Pregnancy Complications</td><td>1</td><td>Bacterial Infections and Mycoses               </td><td>3</td><td>2</td><td>1</td><td>1.0000000</td></tr>\n",
       "\t<tr><td>Scleroderma, Localized                </td><td>0</td><td>2.321928</td><td>Cardiovascular Diseases                        </td><td>1</td><td>Skin and Connective Tissue Diseases            </td><td>5</td><td>2</td><td>3</td><td>0.6000000</td></tr>\n",
       "\t<tr><td>Scleroderma, Localized                </td><td>0</td><td>2.321928</td><td>Digestive System Diseases                      </td><td>1</td><td>Skin and Connective Tissue Diseases            </td><td>5</td><td>2</td><td>3</td><td>0.6000000</td></tr>\n",
       "\t<tr><td>Scleroderma, Localized                </td><td>0</td><td>2.321928</td><td>Immune System Diseases                         </td><td>1</td><td>Skin and Connective Tissue Diseases            </td><td>5</td><td>2</td><td>3</td><td>0.6000000</td></tr>\n",
       "\t<tr><td>Scleroderma, Localized                </td><td>0</td><td>2.321928</td><td>Others                                         </td><td>1</td><td>Skin and Connective Tissue Diseases            </td><td>5</td><td>2</td><td>3</td><td>0.6000000</td></tr>\n",
       "\t<tr><td>Spondylitis, Ankylosing               </td><td>0</td><td>2.000000</td><td>Cardiovascular Diseases                        </td><td>1</td><td>Musculoskeletal Diseases                       </td><td>4</td><td>1</td><td>3</td><td>0.5000000</td></tr>\n",
       "\t<tr><td>Spondylitis, Ankylosing               </td><td>0</td><td>2.000000</td><td>Immune System Diseases                         </td><td>1</td><td>Musculoskeletal Diseases                       </td><td>4</td><td>1</td><td>3</td><td>0.5000000</td></tr>\n",
       "\t<tr><td>Spondylitis, Ankylosing               </td><td>0</td><td>2.000000</td><td>Nervous System Diseases                        </td><td>1</td><td>Musculoskeletal Diseases                       </td><td>4</td><td>1</td><td>3</td><td>0.5000000</td></tr>\n",
       "\t<tr><td>Telangiectasia, Hereditary Hemorrhagic</td><td>0</td><td>1.584963</td><td>Digestive System Diseases                      </td><td>1</td><td>Cardiovascular Diseases                        </td><td>3</td><td>0</td><td>3</td><td>0.6666667</td></tr>\n",
       "\t<tr><td>Telangiectasia, Hereditary Hemorrhagic</td><td>0</td><td>1.584963</td><td>Urogenital Diseases and Pregnancy Complications</td><td>1</td><td>Cardiovascular Diseases                        </td><td>3</td><td>0</td><td>3</td><td>0.6666667</td></tr>\n",
       "</tbody>\n",
       "</table>\n"
      ],
      "text/latex": [
       "A tibble: 127 × 10\n",
       "\\begin{tabular}{llllllllll}\n",
       " Node & same\\_cate\\_neighbor & entropy & top\\_cate\\_neighbor & top\\_cate\\_number & Category & Degree & Positive\\_Edge & Negative\\_Edge & Cluster\\_Coefficient\\\\\n",
       " <chr> & <int> & <dbl> & <chr> & <int> & <chr> & <dbl> & <dbl> & <dbl> & <dbl>\\\\\n",
       "\\hline\n",
       "\t Pituitary Neoplasms                              & 6 & 2.595476 & Cardiovascular Diseases             & 10 & Neoplasms                                       & 26 & 16 & 10 & 0.3292308\\\\\n",
       "\t Lupus Erythematosus, Systemic                    & 8 & 3.128706 & Nervous System Diseases             &  9 & Immune System Diseases                          & 51 & 33 & 18 & 0.2839216\\\\\n",
       "\t Rhabdomyosarcoma                                 & 3 & 2.510900 & Cardiovascular Diseases             &  8 & Neoplasms                                       & 21 &  7 & 14 & 0.5428571\\\\\n",
       "\t Musculoskeletal Abnormalities                    & 0 & 2.490602 & Cardiovascular Diseases             &  8 & Musculoskeletal Diseases                        & 24 & 16 &  8 & 0.4528986\\\\\n",
       "\t Aortic Aneurysm, Abdominal                       & 1 & 3.051596 & Immune System Diseases              &  7 & Cardiovascular Diseases                         & 28 & 18 & 10 & 0.3571429\\\\\n",
       "\t Thrombocythemia, Essential                       & 1 & 2.437066 & Cardiovascular Diseases             &  7 & Hemic and Lymphatic Diseases                    & 19 & 13 &  6 & 0.6023392\\\\\n",
       "\t Thyroid Carcinoma, Anaplastic                    & 5 & 3.290704 & Cardiovascular Diseases             &  6 & Neoplasms                                       & 37 & 23 & 14 & 0.3603604\\\\\n",
       "\t Thyroid Carcinoma, Anaplastic                    & 5 & 3.290704 & Nervous System Diseases             &  6 & Neoplasms                                       & 37 & 23 & 14 & 0.3603604\\\\\n",
       "\t Crohn Disease                                    & 0 & 2.772185 & Immune System Diseases              &  6 & Digestive System Diseases                       & 22 & 15 &  7 & 0.5064935\\\\\n",
       "\t Sjogren's Syndrome                               & 3 & 3.319043 & Nervous System Diseases             &  5 & Immune System Diseases                          & 29 & 20 &  9 & 0.4359606\\\\\n",
       "\t Endotoxemia                                      & 1 & 3.090200 & Immune System Diseases              &  5 & Bacterial Infections and Mycoses                & 24 & 10 & 14 & 0.2536232\\\\\n",
       "\t Precursor B-Cell Lymphoblastic Leukemia-Lymphoma & 1 & 1.879965 & Cardiovascular Diseases             &  5 & Neoplasms                                       &  9 &  4 &  5 & 0.5833333\\\\\n",
       "\t Shock, Hemorrhagic                               & 1 & 2.441630 & Cardiovascular Diseases             &  5 & Others                                          & 13 &  5 &  8 & 0.3974359\\\\\n",
       "\t Tuberculosis                                     & 1 & 3.116409 & Nervous System Diseases             &  5 & Bacterial Infections and Mycoses                & 23 &  8 & 15 & 0.4624506\\\\\n",
       "\t Liver Cirrhosis, Biliary                         & 0 & 2.005978 & Cardiovascular Diseases             &  5 & Digestive System Diseases                       & 14 &  9 &  5 & 0.4505495\\\\\n",
       "\t Leukemia, Myelogenous, Chronic, BCR-ABL Positive & 4 & 2.655051 & Immune System Diseases              &  4 & Neoplasms                                       & 19 &  4 & 15 & 0.5029240\\\\\n",
       "\t Huntington Disease                               & 3 & 3.155565 & Immune System Diseases              &  4 & Nervous System Diseases                         & 19 &  6 & 13 & 0.6842105\\\\\n",
       "\t Creutzfeldt-Jakob Syndrome                       & 2 & 3.000000 & Immune System Diseases              &  4 & Nervous System Diseases                         & 16 & 10 &  6 & 0.8583333\\\\\n",
       "\t Down Syndrome                                    & 2 & 2.530493 & Immune System Diseases              &  4 & Nervous System Diseases                         & 18 & 16 &  2 & 0.8431373\\\\\n",
       "\t Gaucher Disease                                  & 2 & 2.530493 & Immune System Diseases              &  4 & Nervous System Diseases                         & 18 & 16 &  2 & 0.8431373\\\\\n",
       "\t Gerstmann-Straussler-Scheinker Disease           & 2 & 3.000000 & Immune System Diseases              &  4 & Nervous System Diseases                         & 16 & 10 &  6 & 0.8583333\\\\\n",
       "\t Hepatoblastoma                                   & 2 & 1.378783 & Nervous System Diseases             &  4 & Neoplasms                                       &  7 &  3 &  4 & 0.3333333\\\\\n",
       "\t HIV Infections                                   & 2 & 3.127987 & Cardiovascular Diseases             &  4 & Immune System Diseases                          & 18 &  9 &  9 & 0.2875817\\\\\n",
       "\t Hypertrophy                                      & 2 & 2.610577 & Cardiovascular Diseases             &  4 & Others                                          & 14 & 10 &  4 & 0.7472527\\\\\n",
       "\t Periodontal Diseases                             & 2 & 3.246439 & Immune System Diseases              &  4 & Others                                          & 20 &  8 & 12 & 0.4210526\\\\\n",
       "\t Amyotrophic Lateral Sclerosis                    & 1 & 2.946439 & Immune System Diseases              &  4 & Nervous System Diseases                         & 20 & 11 &  9 & 0.5526316\\\\\n",
       "\t Amyotrophic Lateral Sclerosis                    & 1 & 2.946439 & Skin and Connective Tissue Diseases &  4 & Nervous System Diseases                         & 20 & 11 &  9 & 0.5526316\\\\\n",
       "\t Hepatitis C, Chronic                             & 1 & 2.058814 & Cardiovascular Diseases             &  4 & Virus Diseases                                  &  9 &  7 &  2 & 0.1944444\\\\\n",
       "\t Kidney Diseases                                  & 1 & 2.046439 & Cardiovascular Diseases             &  4 & Urogenital Diseases and Pregnancy Complications & 10 &  7 &  3 & 0.8000000\\\\\n",
       "\t Papillomaviridae                                 & 1 & 2.952820 & Immune System Diseases              &  4 & Others                                          & 16 &  5 & 11 & 0.8583333\\\\\n",
       "\t ⋮ & ⋮ & ⋮ & ⋮ & ⋮ & ⋮ & ⋮ & ⋮ & ⋮ & ⋮\\\\\n",
       "\t Glaucoma                               & 0 & 2.000000 & Virus Diseases                                  & 1 & Others                                          & 4 & 0 & 4 & 1.0000000\\\\\n",
       "\t Hematologic Neoplasms                  & 0 & 1.000000 & Cardiovascular Diseases                         & 1 & Neoplasms                                       & 2 & 1 & 1 & 0.0000000\\\\\n",
       "\t Hematologic Neoplasms                  & 0 & 1.000000 & Nervous System Diseases                         & 1 & Neoplasms                                       & 2 & 1 & 1 & 0.0000000\\\\\n",
       "\t Hepatitis B, Chronic                   & 0 & 2.000000 & Others                                          & 1 & Virus Diseases                                  & 4 & 2 & 2 & 0.6666667\\\\\n",
       "\t Hepatitis B, Chronic                   & 0 & 2.000000 & Parasitic Diseases                              & 1 & Virus Diseases                                  & 4 & 2 & 2 & 0.6666667\\\\\n",
       "\t Hepatitis B, Chronic                   & 0 & 2.000000 & Skin and Connective Tissue Diseases             & 1 & Virus Diseases                                  & 4 & 2 & 2 & 0.6666667\\\\\n",
       "\t Idiopathic Pulmonary Fibrosis          & 0 & 1.000000 & Digestive System Diseases                       & 1 & Respiratory Tract Diseases                      & 2 & 2 & 0 & 1.0000000\\\\\n",
       "\t Infertility                            & 0 & 2.000000 & Cardiovascular Diseases                         & 1 & Urogenital Diseases and Pregnancy Complications & 4 & 2 & 2 & 0.1666667\\\\\n",
       "\t Infertility                            & 0 & 2.000000 & Digestive System Diseases                       & 1 & Urogenital Diseases and Pregnancy Complications & 4 & 2 & 2 & 0.1666667\\\\\n",
       "\t Infertility                            & 0 & 2.000000 & Nervous System Diseases                         & 1 & Urogenital Diseases and Pregnancy Complications & 4 & 2 & 2 & 0.1666667\\\\\n",
       "\t Infertility                            & 0 & 2.000000 & Nutritional and Metabolic Diseases              & 1 & Urogenital Diseases and Pregnancy Complications & 4 & 2 & 2 & 0.1666667\\\\\n",
       "\t Intervertebral Disc Degeneration       & 0 & 2.000000 & Nutritional and Metabolic Diseases              & 1 & Musculoskeletal Diseases                        & 4 & 3 & 1 & 1.0000000\\\\\n",
       "\t Intervertebral Disc Degeneration       & 0 & 2.000000 & Others                                          & 1 & Musculoskeletal Diseases                        & 4 & 3 & 1 & 1.0000000\\\\\n",
       "\t Intervertebral Disc Degeneration       & 0 & 2.000000 & Virus Diseases                                  & 1 & Musculoskeletal Diseases                        & 4 & 3 & 1 & 1.0000000\\\\\n",
       "\t Leukemia, Myeloid                      & 0 & 0.000000 & Nervous System Diseases                         & 1 & Neoplasms                                       & 1 & 1 & 0 & 0.0000000\\\\\n",
       "\t Osteoporosis                           & 0 & 2.000000 & Musculoskeletal Diseases                        & 1 & Nutritional and Metabolic Diseases              & 4 & 3 & 1 & 1.0000000\\\\\n",
       "\t Osteoporosis                           & 0 & 2.000000 & Others                                          & 1 & Nutritional and Metabolic Diseases              & 4 & 3 & 1 & 1.0000000\\\\\n",
       "\t Osteoporosis                           & 0 & 2.000000 & Virus Diseases                                  & 1 & Nutritional and Metabolic Diseases              & 4 & 3 & 1 & 1.0000000\\\\\n",
       "\t Salmonella Infections                  & 0 & 1.584963 & Immune System Diseases                          & 1 & Bacterial Infections and Mycoses                & 3 & 2 & 1 & 1.0000000\\\\\n",
       "\t Salmonella Infections                  & 0 & 1.584963 & Nervous System Diseases                         & 1 & Bacterial Infections and Mycoses                & 3 & 2 & 1 & 1.0000000\\\\\n",
       "\t Salmonella Infections                  & 0 & 1.584963 & Urogenital Diseases and Pregnancy Complications & 1 & Bacterial Infections and Mycoses                & 3 & 2 & 1 & 1.0000000\\\\\n",
       "\t Scleroderma, Localized                 & 0 & 2.321928 & Cardiovascular Diseases                         & 1 & Skin and Connective Tissue Diseases             & 5 & 2 & 3 & 0.6000000\\\\\n",
       "\t Scleroderma, Localized                 & 0 & 2.321928 & Digestive System Diseases                       & 1 & Skin and Connective Tissue Diseases             & 5 & 2 & 3 & 0.6000000\\\\\n",
       "\t Scleroderma, Localized                 & 0 & 2.321928 & Immune System Diseases                          & 1 & Skin and Connective Tissue Diseases             & 5 & 2 & 3 & 0.6000000\\\\\n",
       "\t Scleroderma, Localized                 & 0 & 2.321928 & Others                                          & 1 & Skin and Connective Tissue Diseases             & 5 & 2 & 3 & 0.6000000\\\\\n",
       "\t Spondylitis, Ankylosing                & 0 & 2.000000 & Cardiovascular Diseases                         & 1 & Musculoskeletal Diseases                        & 4 & 1 & 3 & 0.5000000\\\\\n",
       "\t Spondylitis, Ankylosing                & 0 & 2.000000 & Immune System Diseases                          & 1 & Musculoskeletal Diseases                        & 4 & 1 & 3 & 0.5000000\\\\\n",
       "\t Spondylitis, Ankylosing                & 0 & 2.000000 & Nervous System Diseases                         & 1 & Musculoskeletal Diseases                        & 4 & 1 & 3 & 0.5000000\\\\\n",
       "\t Telangiectasia, Hereditary Hemorrhagic & 0 & 1.584963 & Digestive System Diseases                       & 1 & Cardiovascular Diseases                         & 3 & 0 & 3 & 0.6666667\\\\\n",
       "\t Telangiectasia, Hereditary Hemorrhagic & 0 & 1.584963 & Urogenital Diseases and Pregnancy Complications & 1 & Cardiovascular Diseases                         & 3 & 0 & 3 & 0.6666667\\\\\n",
       "\\end{tabular}\n"
      ],
      "text/markdown": [
       "\n",
       "A tibble: 127 × 10\n",
       "\n",
       "| Node &lt;chr&gt; | same_cate_neighbor &lt;int&gt; | entropy &lt;dbl&gt; | top_cate_neighbor &lt;chr&gt; | top_cate_number &lt;int&gt; | Category &lt;chr&gt; | Degree &lt;dbl&gt; | Positive_Edge &lt;dbl&gt; | Negative_Edge &lt;dbl&gt; | Cluster_Coefficient &lt;dbl&gt; |\n",
       "|---|---|---|---|---|---|---|---|---|---|\n",
       "| Pituitary Neoplasms                              | 6 | 2.595476 | Cardiovascular Diseases             | 10 | Neoplasms                                       | 26 | 16 | 10 | 0.3292308 |\n",
       "| Lupus Erythematosus, Systemic                    | 8 | 3.128706 | Nervous System Diseases             |  9 | Immune System Diseases                          | 51 | 33 | 18 | 0.2839216 |\n",
       "| Rhabdomyosarcoma                                 | 3 | 2.510900 | Cardiovascular Diseases             |  8 | Neoplasms                                       | 21 |  7 | 14 | 0.5428571 |\n",
       "| Musculoskeletal Abnormalities                    | 0 | 2.490602 | Cardiovascular Diseases             |  8 | Musculoskeletal Diseases                        | 24 | 16 |  8 | 0.4528986 |\n",
       "| Aortic Aneurysm, Abdominal                       | 1 | 3.051596 | Immune System Diseases              |  7 | Cardiovascular Diseases                         | 28 | 18 | 10 | 0.3571429 |\n",
       "| Thrombocythemia, Essential                       | 1 | 2.437066 | Cardiovascular Diseases             |  7 | Hemic and Lymphatic Diseases                    | 19 | 13 |  6 | 0.6023392 |\n",
       "| Thyroid Carcinoma, Anaplastic                    | 5 | 3.290704 | Cardiovascular Diseases             |  6 | Neoplasms                                       | 37 | 23 | 14 | 0.3603604 |\n",
       "| Thyroid Carcinoma, Anaplastic                    | 5 | 3.290704 | Nervous System Diseases             |  6 | Neoplasms                                       | 37 | 23 | 14 | 0.3603604 |\n",
       "| Crohn Disease                                    | 0 | 2.772185 | Immune System Diseases              |  6 | Digestive System Diseases                       | 22 | 15 |  7 | 0.5064935 |\n",
       "| Sjogren's Syndrome                               | 3 | 3.319043 | Nervous System Diseases             |  5 | Immune System Diseases                          | 29 | 20 |  9 | 0.4359606 |\n",
       "| Endotoxemia                                      | 1 | 3.090200 | Immune System Diseases              |  5 | Bacterial Infections and Mycoses                | 24 | 10 | 14 | 0.2536232 |\n",
       "| Precursor B-Cell Lymphoblastic Leukemia-Lymphoma | 1 | 1.879965 | Cardiovascular Diseases             |  5 | Neoplasms                                       |  9 |  4 |  5 | 0.5833333 |\n",
       "| Shock, Hemorrhagic                               | 1 | 2.441630 | Cardiovascular Diseases             |  5 | Others                                          | 13 |  5 |  8 | 0.3974359 |\n",
       "| Tuberculosis                                     | 1 | 3.116409 | Nervous System Diseases             |  5 | Bacterial Infections and Mycoses                | 23 |  8 | 15 | 0.4624506 |\n",
       "| Liver Cirrhosis, Biliary                         | 0 | 2.005978 | Cardiovascular Diseases             |  5 | Digestive System Diseases                       | 14 |  9 |  5 | 0.4505495 |\n",
       "| Leukemia, Myelogenous, Chronic, BCR-ABL Positive | 4 | 2.655051 | Immune System Diseases              |  4 | Neoplasms                                       | 19 |  4 | 15 | 0.5029240 |\n",
       "| Huntington Disease                               | 3 | 3.155565 | Immune System Diseases              |  4 | Nervous System Diseases                         | 19 |  6 | 13 | 0.6842105 |\n",
       "| Creutzfeldt-Jakob Syndrome                       | 2 | 3.000000 | Immune System Diseases              |  4 | Nervous System Diseases                         | 16 | 10 |  6 | 0.8583333 |\n",
       "| Down Syndrome                                    | 2 | 2.530493 | Immune System Diseases              |  4 | Nervous System Diseases                         | 18 | 16 |  2 | 0.8431373 |\n",
       "| Gaucher Disease                                  | 2 | 2.530493 | Immune System Diseases              |  4 | Nervous System Diseases                         | 18 | 16 |  2 | 0.8431373 |\n",
       "| Gerstmann-Straussler-Scheinker Disease           | 2 | 3.000000 | Immune System Diseases              |  4 | Nervous System Diseases                         | 16 | 10 |  6 | 0.8583333 |\n",
       "| Hepatoblastoma                                   | 2 | 1.378783 | Nervous System Diseases             |  4 | Neoplasms                                       |  7 |  3 |  4 | 0.3333333 |\n",
       "| HIV Infections                                   | 2 | 3.127987 | Cardiovascular Diseases             |  4 | Immune System Diseases                          | 18 |  9 |  9 | 0.2875817 |\n",
       "| Hypertrophy                                      | 2 | 2.610577 | Cardiovascular Diseases             |  4 | Others                                          | 14 | 10 |  4 | 0.7472527 |\n",
       "| Periodontal Diseases                             | 2 | 3.246439 | Immune System Diseases              |  4 | Others                                          | 20 |  8 | 12 | 0.4210526 |\n",
       "| Amyotrophic Lateral Sclerosis                    | 1 | 2.946439 | Immune System Diseases              |  4 | Nervous System Diseases                         | 20 | 11 |  9 | 0.5526316 |\n",
       "| Amyotrophic Lateral Sclerosis                    | 1 | 2.946439 | Skin and Connective Tissue Diseases |  4 | Nervous System Diseases                         | 20 | 11 |  9 | 0.5526316 |\n",
       "| Hepatitis C, Chronic                             | 1 | 2.058814 | Cardiovascular Diseases             |  4 | Virus Diseases                                  |  9 |  7 |  2 | 0.1944444 |\n",
       "| Kidney Diseases                                  | 1 | 2.046439 | Cardiovascular Diseases             |  4 | Urogenital Diseases and Pregnancy Complications | 10 |  7 |  3 | 0.8000000 |\n",
       "| Papillomaviridae                                 | 1 | 2.952820 | Immune System Diseases              |  4 | Others                                          | 16 |  5 | 11 | 0.8583333 |\n",
       "| ⋮ | ⋮ | ⋮ | ⋮ | ⋮ | ⋮ | ⋮ | ⋮ | ⋮ | ⋮ |\n",
       "| Glaucoma                               | 0 | 2.000000 | Virus Diseases                                  | 1 | Others                                          | 4 | 0 | 4 | 1.0000000 |\n",
       "| Hematologic Neoplasms                  | 0 | 1.000000 | Cardiovascular Diseases                         | 1 | Neoplasms                                       | 2 | 1 | 1 | 0.0000000 |\n",
       "| Hematologic Neoplasms                  | 0 | 1.000000 | Nervous System Diseases                         | 1 | Neoplasms                                       | 2 | 1 | 1 | 0.0000000 |\n",
       "| Hepatitis B, Chronic                   | 0 | 2.000000 | Others                                          | 1 | Virus Diseases                                  | 4 | 2 | 2 | 0.6666667 |\n",
       "| Hepatitis B, Chronic                   | 0 | 2.000000 | Parasitic Diseases                              | 1 | Virus Diseases                                  | 4 | 2 | 2 | 0.6666667 |\n",
       "| Hepatitis B, Chronic                   | 0 | 2.000000 | Skin and Connective Tissue Diseases             | 1 | Virus Diseases                                  | 4 | 2 | 2 | 0.6666667 |\n",
       "| Idiopathic Pulmonary Fibrosis          | 0 | 1.000000 | Digestive System Diseases                       | 1 | Respiratory Tract Diseases                      | 2 | 2 | 0 | 1.0000000 |\n",
       "| Infertility                            | 0 | 2.000000 | Cardiovascular Diseases                         | 1 | Urogenital Diseases and Pregnancy Complications | 4 | 2 | 2 | 0.1666667 |\n",
       "| Infertility                            | 0 | 2.000000 | Digestive System Diseases                       | 1 | Urogenital Diseases and Pregnancy Complications | 4 | 2 | 2 | 0.1666667 |\n",
       "| Infertility                            | 0 | 2.000000 | Nervous System Diseases                         | 1 | Urogenital Diseases and Pregnancy Complications | 4 | 2 | 2 | 0.1666667 |\n",
       "| Infertility                            | 0 | 2.000000 | Nutritional and Metabolic Diseases              | 1 | Urogenital Diseases and Pregnancy Complications | 4 | 2 | 2 | 0.1666667 |\n",
       "| Intervertebral Disc Degeneration       | 0 | 2.000000 | Nutritional and Metabolic Diseases              | 1 | Musculoskeletal Diseases                        | 4 | 3 | 1 | 1.0000000 |\n",
       "| Intervertebral Disc Degeneration       | 0 | 2.000000 | Others                                          | 1 | Musculoskeletal Diseases                        | 4 | 3 | 1 | 1.0000000 |\n",
       "| Intervertebral Disc Degeneration       | 0 | 2.000000 | Virus Diseases                                  | 1 | Musculoskeletal Diseases                        | 4 | 3 | 1 | 1.0000000 |\n",
       "| Leukemia, Myeloid                      | 0 | 0.000000 | Nervous System Diseases                         | 1 | Neoplasms                                       | 1 | 1 | 0 | 0.0000000 |\n",
       "| Osteoporosis                           | 0 | 2.000000 | Musculoskeletal Diseases                        | 1 | Nutritional and Metabolic Diseases              | 4 | 3 | 1 | 1.0000000 |\n",
       "| Osteoporosis                           | 0 | 2.000000 | Others                                          | 1 | Nutritional and Metabolic Diseases              | 4 | 3 | 1 | 1.0000000 |\n",
       "| Osteoporosis                           | 0 | 2.000000 | Virus Diseases                                  | 1 | Nutritional and Metabolic Diseases              | 4 | 3 | 1 | 1.0000000 |\n",
       "| Salmonella Infections                  | 0 | 1.584963 | Immune System Diseases                          | 1 | Bacterial Infections and Mycoses                | 3 | 2 | 1 | 1.0000000 |\n",
       "| Salmonella Infections                  | 0 | 1.584963 | Nervous System Diseases                         | 1 | Bacterial Infections and Mycoses                | 3 | 2 | 1 | 1.0000000 |\n",
       "| Salmonella Infections                  | 0 | 1.584963 | Urogenital Diseases and Pregnancy Complications | 1 | Bacterial Infections and Mycoses                | 3 | 2 | 1 | 1.0000000 |\n",
       "| Scleroderma, Localized                 | 0 | 2.321928 | Cardiovascular Diseases                         | 1 | Skin and Connective Tissue Diseases             | 5 | 2 | 3 | 0.6000000 |\n",
       "| Scleroderma, Localized                 | 0 | 2.321928 | Digestive System Diseases                       | 1 | Skin and Connective Tissue Diseases             | 5 | 2 | 3 | 0.6000000 |\n",
       "| Scleroderma, Localized                 | 0 | 2.321928 | Immune System Diseases                          | 1 | Skin and Connective Tissue Diseases             | 5 | 2 | 3 | 0.6000000 |\n",
       "| Scleroderma, Localized                 | 0 | 2.321928 | Others                                          | 1 | Skin and Connective Tissue Diseases             | 5 | 2 | 3 | 0.6000000 |\n",
       "| Spondylitis, Ankylosing                | 0 | 2.000000 | Cardiovascular Diseases                         | 1 | Musculoskeletal Diseases                        | 4 | 1 | 3 | 0.5000000 |\n",
       "| Spondylitis, Ankylosing                | 0 | 2.000000 | Immune System Diseases                          | 1 | Musculoskeletal Diseases                        | 4 | 1 | 3 | 0.5000000 |\n",
       "| Spondylitis, Ankylosing                | 0 | 2.000000 | Nervous System Diseases                         | 1 | Musculoskeletal Diseases                        | 4 | 1 | 3 | 0.5000000 |\n",
       "| Telangiectasia, Hereditary Hemorrhagic | 0 | 1.584963 | Digestive System Diseases                       | 1 | Cardiovascular Diseases                         | 3 | 0 | 3 | 0.6666667 |\n",
       "| Telangiectasia, Hereditary Hemorrhagic | 0 | 1.584963 | Urogenital Diseases and Pregnancy Complications | 1 | Cardiovascular Diseases                         | 3 | 0 | 3 | 0.6666667 |\n",
       "\n"
      ],
      "text/plain": [
       "    Node                                             same_cate_neighbor\n",
       "1   Pituitary Neoplasms                              6                 \n",
       "2   Lupus Erythematosus, Systemic                    8                 \n",
       "3   Rhabdomyosarcoma                                 3                 \n",
       "4   Musculoskeletal Abnormalities                    0                 \n",
       "5   Aortic Aneurysm, Abdominal                       1                 \n",
       "6   Thrombocythemia, Essential                       1                 \n",
       "7   Thyroid Carcinoma, Anaplastic                    5                 \n",
       "8   Thyroid Carcinoma, Anaplastic                    5                 \n",
       "9   Crohn Disease                                    0                 \n",
       "10  Sjogren's Syndrome                               3                 \n",
       "11  Endotoxemia                                      1                 \n",
       "12  Precursor B-Cell Lymphoblastic Leukemia-Lymphoma 1                 \n",
       "13  Shock, Hemorrhagic                               1                 \n",
       "14  Tuberculosis                                     1                 \n",
       "15  Liver Cirrhosis, Biliary                         0                 \n",
       "16  Leukemia, Myelogenous, Chronic, BCR-ABL Positive 4                 \n",
       "17  Huntington Disease                               3                 \n",
       "18  Creutzfeldt-Jakob Syndrome                       2                 \n",
       "19  Down Syndrome                                    2                 \n",
       "20  Gaucher Disease                                  2                 \n",
       "21  Gerstmann-Straussler-Scheinker Disease           2                 \n",
       "22  Hepatoblastoma                                   2                 \n",
       "23  HIV Infections                                   2                 \n",
       "24  Hypertrophy                                      2                 \n",
       "25  Periodontal Diseases                             2                 \n",
       "26  Amyotrophic Lateral Sclerosis                    1                 \n",
       "27  Amyotrophic Lateral Sclerosis                    1                 \n",
       "28  Hepatitis C, Chronic                             1                 \n",
       "29  Kidney Diseases                                  1                 \n",
       "30  Papillomaviridae                                 1                 \n",
       "⋮   ⋮                                                ⋮                 \n",
       "98  Glaucoma                                         0                 \n",
       "99  Hematologic Neoplasms                            0                 \n",
       "100 Hematologic Neoplasms                            0                 \n",
       "101 Hepatitis B, Chronic                             0                 \n",
       "102 Hepatitis B, Chronic                             0                 \n",
       "103 Hepatitis B, Chronic                             0                 \n",
       "104 Idiopathic Pulmonary Fibrosis                    0                 \n",
       "105 Infertility                                      0                 \n",
       "106 Infertility                                      0                 \n",
       "107 Infertility                                      0                 \n",
       "108 Infertility                                      0                 \n",
       "109 Intervertebral Disc Degeneration                 0                 \n",
       "110 Intervertebral Disc Degeneration                 0                 \n",
       "111 Intervertebral Disc Degeneration                 0                 \n",
       "112 Leukemia, Myeloid                                0                 \n",
       "113 Osteoporosis                                     0                 \n",
       "114 Osteoporosis                                     0                 \n",
       "115 Osteoporosis                                     0                 \n",
       "116 Salmonella Infections                            0                 \n",
       "117 Salmonella Infections                            0                 \n",
       "118 Salmonella Infections                            0                 \n",
       "119 Scleroderma, Localized                           0                 \n",
       "120 Scleroderma, Localized                           0                 \n",
       "121 Scleroderma, Localized                           0                 \n",
       "122 Scleroderma, Localized                           0                 \n",
       "123 Spondylitis, Ankylosing                          0                 \n",
       "124 Spondylitis, Ankylosing                          0                 \n",
       "125 Spondylitis, Ankylosing                          0                 \n",
       "126 Telangiectasia, Hereditary Hemorrhagic           0                 \n",
       "127 Telangiectasia, Hereditary Hemorrhagic           0                 \n",
       "    entropy  top_cate_neighbor                               top_cate_number\n",
       "1   2.595476 Cardiovascular Diseases                         10             \n",
       "2   3.128706 Nervous System Diseases                          9             \n",
       "3   2.510900 Cardiovascular Diseases                          8             \n",
       "4   2.490602 Cardiovascular Diseases                          8             \n",
       "5   3.051596 Immune System Diseases                           7             \n",
       "6   2.437066 Cardiovascular Diseases                          7             \n",
       "7   3.290704 Cardiovascular Diseases                          6             \n",
       "8   3.290704 Nervous System Diseases                          6             \n",
       "9   2.772185 Immune System Diseases                           6             \n",
       "10  3.319043 Nervous System Diseases                          5             \n",
       "11  3.090200 Immune System Diseases                           5             \n",
       "12  1.879965 Cardiovascular Diseases                          5             \n",
       "13  2.441630 Cardiovascular Diseases                          5             \n",
       "14  3.116409 Nervous System Diseases                          5             \n",
       "15  2.005978 Cardiovascular Diseases                          5             \n",
       "16  2.655051 Immune System Diseases                           4             \n",
       "17  3.155565 Immune System Diseases                           4             \n",
       "18  3.000000 Immune System Diseases                           4             \n",
       "19  2.530493 Immune System Diseases                           4             \n",
       "20  2.530493 Immune System Diseases                           4             \n",
       "21  3.000000 Immune System Diseases                           4             \n",
       "22  1.378783 Nervous System Diseases                          4             \n",
       "23  3.127987 Cardiovascular Diseases                          4             \n",
       "24  2.610577 Cardiovascular Diseases                          4             \n",
       "25  3.246439 Immune System Diseases                           4             \n",
       "26  2.946439 Immune System Diseases                           4             \n",
       "27  2.946439 Skin and Connective Tissue Diseases              4             \n",
       "28  2.058814 Cardiovascular Diseases                          4             \n",
       "29  2.046439 Cardiovascular Diseases                          4             \n",
       "30  2.952820 Immune System Diseases                           4             \n",
       "⋮   ⋮        ⋮                                               ⋮              \n",
       "98  2.000000 Virus Diseases                                  1              \n",
       "99  1.000000 Cardiovascular Diseases                         1              \n",
       "100 1.000000 Nervous System Diseases                         1              \n",
       "101 2.000000 Others                                          1              \n",
       "102 2.000000 Parasitic Diseases                              1              \n",
       "103 2.000000 Skin and Connective Tissue Diseases             1              \n",
       "104 1.000000 Digestive System Diseases                       1              \n",
       "105 2.000000 Cardiovascular Diseases                         1              \n",
       "106 2.000000 Digestive System Diseases                       1              \n",
       "107 2.000000 Nervous System Diseases                         1              \n",
       "108 2.000000 Nutritional and Metabolic Diseases              1              \n",
       "109 2.000000 Nutritional and Metabolic Diseases              1              \n",
       "110 2.000000 Others                                          1              \n",
       "111 2.000000 Virus Diseases                                  1              \n",
       "112 0.000000 Nervous System Diseases                         1              \n",
       "113 2.000000 Musculoskeletal Diseases                        1              \n",
       "114 2.000000 Others                                          1              \n",
       "115 2.000000 Virus Diseases                                  1              \n",
       "116 1.584963 Immune System Diseases                          1              \n",
       "117 1.584963 Nervous System Diseases                         1              \n",
       "118 1.584963 Urogenital Diseases and Pregnancy Complications 1              \n",
       "119 2.321928 Cardiovascular Diseases                         1              \n",
       "120 2.321928 Digestive System Diseases                       1              \n",
       "121 2.321928 Immune System Diseases                          1              \n",
       "122 2.321928 Others                                          1              \n",
       "123 2.000000 Cardiovascular Diseases                         1              \n",
       "124 2.000000 Immune System Diseases                          1              \n",
       "125 2.000000 Nervous System Diseases                         1              \n",
       "126 1.584963 Digestive System Diseases                       1              \n",
       "127 1.584963 Urogenital Diseases and Pregnancy Complications 1              \n",
       "    Category                                        Degree Positive_Edge\n",
       "1   Neoplasms                                       26     16           \n",
       "2   Immune System Diseases                          51     33           \n",
       "3   Neoplasms                                       21      7           \n",
       "4   Musculoskeletal Diseases                        24     16           \n",
       "5   Cardiovascular Diseases                         28     18           \n",
       "6   Hemic and Lymphatic Diseases                    19     13           \n",
       "7   Neoplasms                                       37     23           \n",
       "8   Neoplasms                                       37     23           \n",
       "9   Digestive System Diseases                       22     15           \n",
       "10  Immune System Diseases                          29     20           \n",
       "11  Bacterial Infections and Mycoses                24     10           \n",
       "12  Neoplasms                                        9      4           \n",
       "13  Others                                          13      5           \n",
       "14  Bacterial Infections and Mycoses                23      8           \n",
       "15  Digestive System Diseases                       14      9           \n",
       "16  Neoplasms                                       19      4           \n",
       "17  Nervous System Diseases                         19      6           \n",
       "18  Nervous System Diseases                         16     10           \n",
       "19  Nervous System Diseases                         18     16           \n",
       "20  Nervous System Diseases                         18     16           \n",
       "21  Nervous System Diseases                         16     10           \n",
       "22  Neoplasms                                        7      3           \n",
       "23  Immune System Diseases                          18      9           \n",
       "24  Others                                          14     10           \n",
       "25  Others                                          20      8           \n",
       "26  Nervous System Diseases                         20     11           \n",
       "27  Nervous System Diseases                         20     11           \n",
       "28  Virus Diseases                                   9      7           \n",
       "29  Urogenital Diseases and Pregnancy Complications 10      7           \n",
       "30  Others                                          16      5           \n",
       "⋮   ⋮                                               ⋮      ⋮            \n",
       "98  Others                                          4      0            \n",
       "99  Neoplasms                                       2      1            \n",
       "100 Neoplasms                                       2      1            \n",
       "101 Virus Diseases                                  4      2            \n",
       "102 Virus Diseases                                  4      2            \n",
       "103 Virus Diseases                                  4      2            \n",
       "104 Respiratory Tract Diseases                      2      2            \n",
       "105 Urogenital Diseases and Pregnancy Complications 4      2            \n",
       "106 Urogenital Diseases and Pregnancy Complications 4      2            \n",
       "107 Urogenital Diseases and Pregnancy Complications 4      2            \n",
       "108 Urogenital Diseases and Pregnancy Complications 4      2            \n",
       "109 Musculoskeletal Diseases                        4      3            \n",
       "110 Musculoskeletal Diseases                        4      3            \n",
       "111 Musculoskeletal Diseases                        4      3            \n",
       "112 Neoplasms                                       1      1            \n",
       "113 Nutritional and Metabolic Diseases              4      3            \n",
       "114 Nutritional and Metabolic Diseases              4      3            \n",
       "115 Nutritional and Metabolic Diseases              4      3            \n",
       "116 Bacterial Infections and Mycoses                3      2            \n",
       "117 Bacterial Infections and Mycoses                3      2            \n",
       "118 Bacterial Infections and Mycoses                3      2            \n",
       "119 Skin and Connective Tissue Diseases             5      2            \n",
       "120 Skin and Connective Tissue Diseases             5      2            \n",
       "121 Skin and Connective Tissue Diseases             5      2            \n",
       "122 Skin and Connective Tissue Diseases             5      2            \n",
       "123 Musculoskeletal Diseases                        4      1            \n",
       "124 Musculoskeletal Diseases                        4      1            \n",
       "125 Musculoskeletal Diseases                        4      1            \n",
       "126 Cardiovascular Diseases                         3      0            \n",
       "127 Cardiovascular Diseases                         3      0            \n",
       "    Negative_Edge Cluster_Coefficient\n",
       "1   10            0.3292308          \n",
       "2   18            0.2839216          \n",
       "3   14            0.5428571          \n",
       "4    8            0.4528986          \n",
       "5   10            0.3571429          \n",
       "6    6            0.6023392          \n",
       "7   14            0.3603604          \n",
       "8   14            0.3603604          \n",
       "9    7            0.5064935          \n",
       "10   9            0.4359606          \n",
       "11  14            0.2536232          \n",
       "12   5            0.5833333          \n",
       "13   8            0.3974359          \n",
       "14  15            0.4624506          \n",
       "15   5            0.4505495          \n",
       "16  15            0.5029240          \n",
       "17  13            0.6842105          \n",
       "18   6            0.8583333          \n",
       "19   2            0.8431373          \n",
       "20   2            0.8431373          \n",
       "21   6            0.8583333          \n",
       "22   4            0.3333333          \n",
       "23   9            0.2875817          \n",
       "24   4            0.7472527          \n",
       "25  12            0.4210526          \n",
       "26   9            0.5526316          \n",
       "27   9            0.5526316          \n",
       "28   2            0.1944444          \n",
       "29   3            0.8000000          \n",
       "30  11            0.8583333          \n",
       "⋮   ⋮             ⋮                  \n",
       "98  4             1.0000000          \n",
       "99  1             0.0000000          \n",
       "100 1             0.0000000          \n",
       "101 2             0.6666667          \n",
       "102 2             0.6666667          \n",
       "103 2             0.6666667          \n",
       "104 0             1.0000000          \n",
       "105 2             0.1666667          \n",
       "106 2             0.1666667          \n",
       "107 2             0.1666667          \n",
       "108 2             0.1666667          \n",
       "109 1             1.0000000          \n",
       "110 1             1.0000000          \n",
       "111 1             1.0000000          \n",
       "112 0             0.0000000          \n",
       "113 1             1.0000000          \n",
       "114 1             1.0000000          \n",
       "115 1             1.0000000          \n",
       "116 1             1.0000000          \n",
       "117 1             1.0000000          \n",
       "118 1             1.0000000          \n",
       "119 3             0.6000000          \n",
       "120 3             0.6000000          \n",
       "121 3             0.6000000          \n",
       "122 3             0.6000000          \n",
       "123 3             0.5000000          \n",
       "124 3             0.5000000          \n",
       "125 3             0.5000000          \n",
       "126 3             0.6666667          \n",
       "127 3             0.6666667          "
      ]
     },
     "metadata": {},
     "output_type": "display_data"
    }
   ],
   "source": [
    "neighbor_info %>%\n",
    "    filter(top_cate_neighbor != Category) %>%\n",
    "    filter(top_cate_neighbor!=\"Neoplasms\") %>%\n",
    "    arrange(desc(top_cate_number))"
   ]
  },
  {
   "cell_type": "markdown",
   "metadata": {},
   "source": [
    "2. Permutation test"
   ]
  },
  {
   "cell_type": "code",
   "execution_count": 284,
   "metadata": {
    "collapsed": true
   },
   "outputs": [
    {
     "name": "stderr",
     "output_type": "stream",
     "text": [
      "\n",
      "Attaching package: ‘igraph’\n",
      "\n",
      "\n",
      "The following objects are masked from ‘package:dplyr’:\n",
      "\n",
      "    as_data_frame, groups, union\n",
      "\n",
      "\n",
      "The following objects are masked from ‘package:purrr’:\n",
      "\n",
      "    compose, simplify\n",
      "\n",
      "\n",
      "The following object is masked from ‘package:tidyr’:\n",
      "\n",
      "    crossing\n",
      "\n",
      "\n",
      "The following object is masked from ‘package:tibble’:\n",
      "\n",
      "    as_data_frame\n",
      "\n",
      "\n",
      "The following objects are masked from ‘package:stats’:\n",
      "\n",
      "    decompose, spectrum\n",
      "\n",
      "\n",
      "The following object is masked from ‘package:base’:\n",
      "\n",
      "    union\n",
      "\n",
      "\n"
     ]
    }
   ],
   "source": [
    "library(\"igraph\")\n",
    "\n",
    "getImmNeibor <- function(g){\n",
    "    aaa_index <- which(V(g)$name==\"Aortic Aneurysm, Abdominal\")\n",
    "    ends(g, E(g)[from(aaa_index)]) %>%\n",
    "        apply(1, paste0, collapse=\"\") %>%\n",
    "        str_replace(\"Aortic Aneurysm, Abdominal\", \"\") %>%\n",
    "        tibble() %>% setNames(c(\"Nodes\")) %>%\n",
    "        left_join(nodes[, 1:2], by=\"Nodes\") %>%\n",
    "        filter(Category==\"Immune System Diseases\") %>%\n",
    "        nrow()\n",
    "}"
   ]
  },
  {
   "cell_type": "code",
   "execution_count": 289,
   "metadata": {},
   "outputs": [],
   "source": [
    "g <- graph_from_data_frame(edges, directed=F)"
   ]
  },
  {
   "cell_type": "code",
   "execution_count": 416,
   "metadata": {},
   "outputs": [
    {
     "data": {
      "text/html": [
       "7"
      ],
      "text/latex": [
       "7"
      ],
      "text/markdown": [
       "7"
      ],
      "text/plain": [
       "[1] 7"
      ]
     },
     "metadata": {},
     "output_type": "display_data"
    }
   ],
   "source": [
    "getImmNeibor(g)"
   ]
  },
  {
   "cell_type": "code",
   "execution_count": 417,
   "metadata": {},
   "outputs": [],
   "source": [
    "perm_imm <- sapply(1:10000, function(x){\n",
    "    g1 <- rewire(g, keeping_degseq(niter=vcount(g)*10))\n",
    "    return(getImmNeibor(g1))\n",
    "})"
   ]
  },
  {
   "cell_type": "code",
   "execution_count": 445,
   "metadata": {},
   "outputs": [
    {
     "data": {
      "text/plain": [
       "\n",
       "\tOne Sample t-test\n",
       "\n",
       "data:  perm_imm[1:10000]\n",
       "t = -262.53, df = 9999, p-value < 2.2e-16\n",
       "alternative hypothesis: true mean is not equal to 7\n",
       "95 percent confidence interval:\n",
       " 3.114907 3.172493\n",
       "sample estimates:\n",
       "mean of x \n",
       "   3.1437 \n"
      ]
     },
     "metadata": {},
     "output_type": "display_data"
    }
   ],
   "source": [
    "t.test(perm_imm[1:10000], mu=7)"
   ]
  },
  {
   "cell_type": "code",
   "execution_count": 430,
   "metadata": {},
   "outputs": [
    {
     "data": {
      "image/png": "[encoded data removed]",
      "text/plain": [
       "plot without title"
      ]
     },
     "metadata": {
      "image/png": {
       "height": 300,
       "width": 360
      }
     },
     "output_type": "display_data"
    }
   ],
   "source": [
    "tibble(perm=perm_imm) %>%\n",
    "    plotDensity(\"perm\", bw=1) +\n",
    "    geom_vline(xintercept=7, color=\"yellow\") + \n",
    "    labs(title=\"\", x=\"Number of Immnue System Disease in AAA neighbors\")\n",
    "ggsave(\"./response/perm.pdf\", height=4, width=5, units=\"in\", dpi=600)\n"
   ]
  },
  {
   "cell_type": "markdown",
   "metadata": {},
   "source": [
    "3. Summary AAA miRNAs"
   ]
  },
  {
   "cell_type": "code",
   "execution_count": 225,
   "metadata": {},
   "outputs": [],
   "source": [
    "aaa_mirna <- weight_matrix_long %>%\n",
    "    filter(disease==\"Aortic Aneurysm, Abdominal\") %>%\n",
    "    select(miRNA) %>% deframe()"
   ]
  },
  {
   "cell_type": "code",
   "execution_count": 230,
   "metadata": {},
   "outputs": [
    {
     "data": {
      "text/html": [
       "<style>\n",
       ".list-inline {list-style: none; margin:0; padding: 0}\n",
       ".list-inline>li {display: inline-block}\n",
       ".list-inline>li:not(:last-child)::after {content: \"\\00b7\"; padding: 0 .5ex}\n",
       "</style>\n",
       "<ol class=list-inline><li>'hsa-mir-124a'</li><li>'hsa-mir-126'</li><li>'hsa-mir-146a'</li><li>'hsa-mir-155'</li><li>'hsa-mir-223'</li><li>'hsa-mir-29b'</li></ol>\n"
      ],
      "text/latex": [
       "\\begin{enumerate*}\n",
       "\\item 'hsa-mir-124a'\n",
       "\\item 'hsa-mir-126'\n",
       "\\item 'hsa-mir-146a'\n",
       "\\item 'hsa-mir-155'\n",
       "\\item 'hsa-mir-223'\n",
       "\\item 'hsa-mir-29b'\n",
       "\\end{enumerate*}\n"
      ],
      "text/markdown": [
       "1. 'hsa-mir-124a'\n",
       "2. 'hsa-mir-126'\n",
       "3. 'hsa-mir-146a'\n",
       "4. 'hsa-mir-155'\n",
       "5. 'hsa-mir-223'\n",
       "6. 'hsa-mir-29b'\n",
       "\n",
       "\n"
      ],
      "text/plain": [
       "[1] \"hsa-mir-124a\" \"hsa-mir-126\"  \"hsa-mir-146a\" \"hsa-mir-155\"  \"hsa-mir-223\" \n",
       "[6] \"hsa-mir-29b\" "
      ]
     },
     "metadata": {},
     "output_type": "display_data"
    }
   ],
   "source": [
    "aaa_mirna"
   ]
  },
  {
   "cell_type": "code",
   "execution_count": 282,
   "metadata": {},
   "outputs": [
    {
     "name": "stderr",
     "output_type": "stream",
     "text": [
      "`summarise()` ungrouping output (override with `.groups` argument)\n",
      "\n"
     ]
    },
    {
     "data": {
      "text/html": [
       "<table>\n",
       "<caption>A tibble: 14 × 2</caption>\n",
       "<thead>\n",
       "\t<tr><th scope=col>Category</th><th scope=col>n</th></tr>\n",
       "\t<tr><th scope=col>&lt;chr&gt;</th><th scope=col>&lt;int&gt;</th></tr>\n",
       "</thead>\n",
       "<tbody>\n",
       "\t<tr><td>Neoplasms                                      </td><td>48</td></tr>\n",
       "\t<tr><td>Immune System Diseases                         </td><td>12</td></tr>\n",
       "\t<tr><td>Nervous System Diseases                        </td><td>11</td></tr>\n",
       "\t<tr><td>Cardiovascular Diseases                        </td><td> 9</td></tr>\n",
       "\t<tr><td>Others                                         </td><td> 6</td></tr>\n",
       "\t<tr><td>Skin and Connective Tissue Diseases            </td><td> 6</td></tr>\n",
       "\t<tr><td>Digestive System Diseases                      </td><td> 4</td></tr>\n",
       "\t<tr><td>Urogenital Diseases and Pregnancy Complications</td><td> 4</td></tr>\n",
       "\t<tr><td>Bacterial Infections and Mycoses               </td><td> 3</td></tr>\n",
       "\t<tr><td>Musculoskeletal Diseases                       </td><td> 3</td></tr>\n",
       "\t<tr><td>Nutritional and Metabolic Diseases             </td><td> 2</td></tr>\n",
       "\t<tr><td>Virus Diseases                                 </td><td> 2</td></tr>\n",
       "\t<tr><td>Hemic and Lymphatic Diseases                   </td><td> 1</td></tr>\n",
       "\t<tr><td>Respiratory Tract Diseases                     </td><td> 1</td></tr>\n",
       "</tbody>\n",
       "</table>\n"
      ],
      "text/latex": [
       "A tibble: 14 × 2\n",
       "\\begin{tabular}{ll}\n",
       " Category & n\\\\\n",
       " <chr> & <int>\\\\\n",
       "\\hline\n",
       "\t Neoplasms                                       & 48\\\\\n",
       "\t Immune System Diseases                          & 12\\\\\n",
       "\t Nervous System Diseases                         & 11\\\\\n",
       "\t Cardiovascular Diseases                         &  9\\\\\n",
       "\t Others                                          &  6\\\\\n",
       "\t Skin and Connective Tissue Diseases             &  6\\\\\n",
       "\t Digestive System Diseases                       &  4\\\\\n",
       "\t Urogenital Diseases and Pregnancy Complications &  4\\\\\n",
       "\t Bacterial Infections and Mycoses                &  3\\\\\n",
       "\t Musculoskeletal Diseases                        &  3\\\\\n",
       "\t Nutritional and Metabolic Diseases              &  2\\\\\n",
       "\t Virus Diseases                                  &  2\\\\\n",
       "\t Hemic and Lymphatic Diseases                    &  1\\\\\n",
       "\t Respiratory Tract Diseases                      &  1\\\\\n",
       "\\end{tabular}\n"
      ],
      "text/markdown": [
       "\n",
       "A tibble: 14 × 2\n",
       "\n",
       "| Category &lt;chr&gt; | n &lt;int&gt; |\n",
       "|---|---|\n",
       "| Neoplasms                                       | 48 |\n",
       "| Immune System Diseases                          | 12 |\n",
       "| Nervous System Diseases                         | 11 |\n",
       "| Cardiovascular Diseases                         |  9 |\n",
       "| Others                                          |  6 |\n",
       "| Skin and Connective Tissue Diseases             |  6 |\n",
       "| Digestive System Diseases                       |  4 |\n",
       "| Urogenital Diseases and Pregnancy Complications |  4 |\n",
       "| Bacterial Infections and Mycoses                |  3 |\n",
       "| Musculoskeletal Diseases                        |  3 |\n",
       "| Nutritional and Metabolic Diseases              |  2 |\n",
       "| Virus Diseases                                  |  2 |\n",
       "| Hemic and Lymphatic Diseases                    |  1 |\n",
       "| Respiratory Tract Diseases                      |  1 |\n",
       "\n"
      ],
      "text/plain": [
       "   Category                                        n \n",
       "1  Neoplasms                                       48\n",
       "2  Immune System Diseases                          12\n",
       "3  Nervous System Diseases                         11\n",
       "4  Cardiovascular Diseases                          9\n",
       "5  Others                                           6\n",
       "6  Skin and Connective Tissue Diseases              6\n",
       "7  Digestive System Diseases                        4\n",
       "8  Urogenital Diseases and Pregnancy Complications  4\n",
       "9  Bacterial Infections and Mycoses                 3\n",
       "10 Musculoskeletal Diseases                         3\n",
       "11 Nutritional and Metabolic Diseases               2\n",
       "12 Virus Diseases                                   2\n",
       "13 Hemic and Lymphatic Diseases                     1\n",
       "14 Respiratory Tract Diseases                       1"
      ]
     },
     "metadata": {},
     "output_type": "display_data"
    }
   ],
   "source": [
    "weight_matrix_long %>%\n",
    "    filter(miRNA %in% aaa_mirna) %>%\n",
    "    select(disease) %>%\n",
    "    distinct() %>%\n",
    "    left_join(nodes %>% rename(disease=Nodes), by=\"disease\") %>%\n",
    "    group_by(Category) %>%\n",
    "    summarise(n=n()) %>%\n",
    "    arrange(desc(n))"
   ]
  }
 ],
 "metadata": {
  "kernelspec": {
   "display_name": "R 4.0.0",
   "language": "R",
   "name": "ir40"
  },
  "language_info": {
   "codemirror_mode": "r",
   "file_extension": ".r",
   "mimetype": "text/x-r-source",
   "name": "R",
   "pygments_lexer": "r",
   "version": "4.0.0"
  },
  "toc": {
   "base_numbering": 1,
   "nav_menu": {},
   "number_sections": true,
   "sideBar": true,
   "skip_h1_title": false,
   "title_cell": "Table of Contents",
   "title_sidebar": "Contents",
   "toc_cell": false,
   "toc_position": {
    "height": "calc(100% - 180px)",
    "left": "10px",
    "top": "150px",
    "width": "256px"
   },
   "toc_section_display": true,
   "toc_window_display": true
  }
 },
 "nbformat": 4,
 "nbformat_minor": 2
}
