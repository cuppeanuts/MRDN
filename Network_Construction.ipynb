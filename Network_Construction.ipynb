{
 "cells": [
  {
   "cell_type": "markdown",
   "metadata": {},
   "source": [
    "# MicroRNA Disease Network (MRDN) Construction"
   ]
  },
  {
   "cell_type": "code",
   "execution_count": 1,
   "metadata": {},
   "outputs": [],
   "source": [
    "import re\n",
    "import math\n",
    "import numpy as np\n",
    "import pandas as pd"
   ]
  },
  {
   "cell_type": "markdown",
   "metadata": {},
   "source": [
    "## Curation of the human miRNA-disease association dataset"
   ]
  },
  {
   "cell_type": "markdown",
   "metadata": {},
   "source": [
    "1. Select associations with tissue expression information"
   ]
  },
  {
   "cell_type": "code",
   "execution_count": 2,
   "metadata": {},
   "outputs": [],
   "source": [
    "hmdd_file = \"./data/HMDD_alldata.txt\"\n",
    "all_data = pd.read_table(hmdd_file)\n",
    "tissue_data = all_data[all_data[\"category\"].str.match(\"^tissue_expression_(up|down)$\")].copy()"
   ]
  },
  {
   "cell_type": "markdown",
   "metadata": {},
   "source": [
    "2. Rename miRNAs and code regulation information"
   ]
  },
  {
   "cell_type": "code",
   "execution_count": 3,
   "metadata": {},
   "outputs": [],
   "source": [
    "def adjustMirName(name):\n",
    "    '''\n",
    "        Return pri-miRNA name\n",
    "    '''\n",
    "    return \"-\".join(name.split(\"-\")[:3])\n",
    "\n",
    "def adjustRegName(name):\n",
    "    '''\n",
    "        1 for up regulation and -1 for down regulation\n",
    "    '''\n",
    "    codemap = {\"up\": 1, \"down\": -1}\n",
    "    return codemap[name.split(\"_\")[-1]]\n",
    "\n",
    "tissue_data['pri-miRNA'] = tissue_data['mir'].map(adjustMirName)\n",
    "tissue_data['regulation'] = tissue_data['category'].map(adjustRegName)\n",
    "tissue_data_reg = tissue_data.loc[:, ['pri-miRNA', 'disease', 'regulation']]"
   ]
  },
  {
   "cell_type": "code",
   "execution_count": 4,
   "metadata": {},
   "outputs": [],
   "source": [
    "tissue_data_reg.to_csv(\"./results/HMDD_tissue.txt\", sep=\"\\t\", index=False)"
   ]
  },
  {
   "cell_type": "markdown",
   "metadata": {},
   "source": [
    "## Calculation of miRNA-based disease similarity"
   ]
  },
  {
   "cell_type": "markdown",
   "metadata": {},
   "source": [
    "1. Calculate miRNA-based disease vector  "
   ]
  },
  {
   "cell_type": "code",
   "execution_count": 6,
   "metadata": {},
   "outputs": [],
   "source": [
    "md_pairs = tissue_data_reg.groupby([\"pri-miRNA\", \"disease\"]).sum().reset_index()\n",
    "md_pairs_nonzero = md_pairs[md_pairs[\"regulation\"] != 0]\n",
    "weight_matrix = md_pairs_nonzero.pivot_table(index=[\"disease\"], \n",
    "                                             columns=[\"pri-miRNA\"], \n",
    "                                             values=[\"regulation\"])\n",
    "dsw = {mir:sum(weight_matrix[mir].notna())/float(len(weight_matrix.index)) \n",
    "       for mir in weight_matrix.columns}\n",
    "weight_matrix = weight_matrix.fillna(0).astype(float)\n",
    "for m in weight_matrix.columns:\n",
    "    weight_matrix[m] = weight_matrix[m].map(lambda x: x*np.log(1/dsw[m]))"
   ]
  },
  {
   "cell_type": "code",
   "execution_count": 14,
   "metadata": {},
   "outputs": [],
   "source": [
    "weight_matrix.columns = weight_matrix.columns.droplevel(0)\n",
    "weight_matrix.columns.name = None\n",
    "weight_matrix.to_csv(\"./results/HMDD_weight_matrix.txt\", sep=\"\\t\")"
   ]
  },
  {
   "cell_type": "markdown",
   "metadata": {},
   "source": [
    "2. Calculate disease similarity"
   ]
  },
  {
   "cell_type": "code",
   "execution_count": 8,
   "metadata": {},
   "outputs": [],
   "source": [
    "def tonimoto(vi, vj):\n",
    "    '''\n",
    "        Return Tanimoto coefficient\n",
    "    '''\n",
    "    vi = np.array(vi).astype(float)\n",
    "    vj = np.array(vj).astype(float)\n",
    "    leni = sum(vi**2)\n",
    "    lenj = sum(vj**2)\n",
    "    inner = sum(vi * vj)\n",
    "    sim = inner / (leni + lenj - inner)\n",
    "    return sim\n",
    "\n",
    "diseases = weight_matrix.index.values\n",
    "similarity_matrix = [[tonimoto(weight_matrix.loc[x, :].values, \n",
    "                               weight_matrix.loc[y, :].values) \n",
    "                               for x in diseases] for y in diseases]\n",
    "similarity_matrix = pd.DataFrame(similarity_matrix, index=diseases, columns=diseases)"
   ]
  },
  {
   "cell_type": "code",
   "execution_count": 18,
   "metadata": {},
   "outputs": [],
   "source": [
    "similarity_matrix.index.names = [\"disease\"]\n",
    "similarity_matrix.to_csv(\"./results/HMDD_similarity_matrix.txt\", sep=\"\\t\")"
   ]
  },
  {
   "cell_type": "markdown",
   "metadata": {},
   "source": [
    "## Construction of miRNA-based disease network (MRDN)"
   ]
  },
  {
   "cell_type": "markdown",
   "metadata": {},
   "source": [
    "1. Select nodes and edges"
   ]
  },
  {
   "cell_type": "code",
   "execution_count": 10,
   "metadata": {},
   "outputs": [],
   "source": [
    "for d in diseases:\n",
    "    similarity_matrix.loc[d, d] = 0.0\n",
    "similarity = similarity_matrix.reset_index().melt(id_vars=\"index\")\n",
    "similarity.columns = [\"Disease1\", \"Disease2\", \"Similarity\"]"
   ]
  },
  {
   "cell_type": "code",
   "execution_count": 21,
   "metadata": {},
   "outputs": [],
   "source": [
    "def drt(x):\n",
    "    if x > 0:\n",
    "        return \"+\"\n",
    "    elif x < 0:\n",
    "        return \"-\"\n",
    "    else:\n",
    "        return np.nan\n",
    "\n",
    "similarity[\"Similarity_abs\"] = similarity[\"Similarity\"].map(abs)\n",
    "similarity[\"Direction\"] = similarity[\"Similarity\"].map(drt)"
   ]
  },
  {
   "cell_type": "code",
   "execution_count": 22,
   "metadata": {},
   "outputs": [],
   "source": [
    "mrdn_edges = similarity[similarity[\"Similarity_abs\"] > 0.05]\n",
    "mrdn_edges = mrdn_edges[mrdn_edges[\"Disease1\"] < mrdn_edges[\"Disease2\"]]\n",
    "mrdn_nodes = mrdn_edges.loc[:, [\"Disease1\", \"Disease2\"]].values.flatten()\n",
    "mrdn_nodes = pd.DataFrame(np.unique(mrdn_nodes), columns=[\"Nodes\"])"
   ]
  },
  {
   "cell_type": "code",
   "execution_count": 31,
   "metadata": {},
   "outputs": [],
   "source": [
    "similarity_matrix = pd.read_csv(\"./results/HMDD_similarity_matrix.txt\", sep=\"\\t\", index_col=0)\n",
    "mrdn_nodes = similarity_matrix.columns.values\n",
    "mrdn_nodes = pd.DataFrame(np.unique(mrdn_nodes), columns=[\"Nodes\"])\n",
    "mrdn_nodes.to_csv(\"./results/MRDN_nodes.txt\", sep=\"\\t\", index=False)"
   ]
  },
  {
   "cell_type": "code",
   "execution_count": 25,
   "metadata": {},
   "outputs": [],
   "source": [
    "mrdn_edges.to_csv(\"./results/MRDN_edges.txt\", sep=\"\\t\", index=False)\n",
    "mrdn_nodes.to_csv(\"./results/MRDN_nodes.txt\", sep=\"\\t\", index=False)"
   ]
  },
  {
   "cell_type": "markdown",
   "metadata": {},
   "source": [
    "# Network Analysis"
   ]
  },
  {
   "cell_type": "markdown",
   "metadata": {},
   "source": [
    "create a network using networkx"
   ]
  },
  {
   "cell_type": "markdown",
   "metadata": {},
   "source": [
    "Figures and Tables see Figures.ipynb"
   ]
  },
  {
   "cell_type": "code",
   "execution_count": 34,
   "metadata": {},
   "outputs": [],
   "source": [
    "import networkx as nx\n",
    "\n",
    "mrdn_edges = pd.read_csv(\"./results/MRDN_edges.txt\", sep=\"\\t\")\n",
    "# Disease category was manually curated from MeSH.\n",
    "mrdn_nodes = pd.read_csv(\"./results/MRDN_nodes_category.txt\", sep=\"\\t\")\n",
    "edges = [(row[0], row[1], {\"weight\":row[3], \"direction\":row[4]})\n",
    "         for row in mrdn_edges.values]\n",
    "nodes = [(row[0], {\"Class\":row[1]}) for row in mrdn_nodes.values]\n",
    "G = nx.Graph()\n",
    "G.add_nodes_from(nodes)\n",
    "G.add_edges_from(edges)"
   ]
  },
  {
   "cell_type": "markdown",
   "metadata": {},
   "source": [
    "## Curation of the human miRNA-disease association dataset"
   ]
  },
  {
   "cell_type": "code",
   "execution_count": 4,
   "metadata": {},
   "outputs": [],
   "source": [
    "exp_data = pd.read_csv(\"./results/HMDD_tissue.txt\", sep=\"\\t\")"
   ]
  },
  {
   "cell_type": "code",
   "execution_count": 12,
   "metadata": {},
   "outputs": [
    {
     "name": "stdout",
     "output_type": "stream",
     "text": [
      "5103 3357 1788 1569\n"
     ]
    }
   ],
   "source": [
    "n_record = exp_data.shape[0]\n",
    "md_pair = exp_data.groupby([\"pri-miRNA\", \"disease\"]).sum().reset_index()\n",
    "n_unique = sum(md_pair[\"regulation\"] != 0) \n",
    "n_up = sum(md_pair[\"regulation\"] > 0)\n",
    "n_down = sum(md_pair[\"regulation\"] < 0) \n",
    "print(n_record, n_unique, n_up, n_down)"
   ]
  },
  {
   "cell_type": "markdown",
   "metadata": {},
   "source": [
    "## Construction of miRNA-based disease network (MRDN)"
   ]
  },
  {
   "cell_type": "code",
   "execution_count": 66,
   "metadata": {},
   "outputs": [
    {
     "name": "stdout",
     "output_type": "stream",
     "text": [
      "1521 919\n"
     ]
    }
   ],
   "source": [
    "positive_edges = [(row[0], row[1], float(row[3])) for row in mrdn_edges.values if row[-1] == \"+\"]\n",
    "negative_edges = [(row[0], row[1], float(row[3])) for row in mrdn_edges.values if row[-1] == \"-\"]\n",
    "\n",
    "all_degree = {k:v for k,v in dict(G.degree()).items()}\n",
    "\n",
    "subG = nx.Graph()\n",
    "subG.add_weighted_edges_from(positive_edges, direction=\"+\")\n",
    "pos_degree = {k:v for k,v in dict(subG.degree()).items()}\n",
    "pos_degree.update({k:0 for k in all_degree if k not in pos_degree})\n",
    "\n",
    "subG = nx.Graph()\n",
    "subG.add_weighted_edges_from(negative_edges, direction=\"-\")\n",
    "neg_degree = {k:v for k,v in dict(subG.degree()).items()}\n",
    "neg_degree.update({k:0 for k in all_degree if k not in neg_degree})\n",
    "\n",
    "cc = nx.clustering(G)\n",
    "\n",
    "print(len(positive_edges), len(negative_edges))"
   ]
  },
  {
   "cell_type": "code",
   "execution_count": 67,
   "metadata": {},
   "outputs": [],
   "source": [
    "node_property = pd.read_csv(\"./results/MRDN_nodes_category.txt\", sep=\"\\t\")\n",
    "node_property[\"Degree\"] = [all_degree[k] for k in node_property[\"Nodes\"]]\n",
    "node_property[\"Positive_Edge\"] = [pos_degree[k] for k in node_property[\"Nodes\"]]\n",
    "node_property[\"Negative_Edge\"] = [neg_degree[k] for k in node_property[\"Nodes\"]]\n",
    "node_property[\"Cluster_Coefficient\"] = [cc[k] for k in node_property[\"Nodes\"]]"
   ]
  },
  {
   "cell_type": "code",
   "execution_count": 68,
   "metadata": {},
   "outputs": [],
   "source": [
    "node_property.to_csv(\"./results/MRDN_nodes_property.txt\", sep=\"\\t\", index=False)"
   ]
  },
  {
   "cell_type": "markdown",
   "metadata": {},
   "source": [
    "## Mining disease patterns in MRDN"
   ]
  },
  {
   "cell_type": "code",
   "execution_count": 109,
   "metadata": {},
   "outputs": [],
   "source": [
    "disease_info = pd.read_csv(\"./results/MRDN_nodes_property.txt\", sep=\"\\t\", index_col=0)\n",
    "asp = nx.all_pairs_shortest_path_length(G)\n",
    "asp = {row[0]:row[1] for row in list(asp)}\n",
    "resd= {}\n",
    "for d1 in disease_info.index:\n",
    "    for d2 in disease_info.index:\n",
    "        if d2 != d1:\n",
    "            key = tuple(sorted([d1, d2]))\n",
    "            if key not in resd:\n",
    "                if d2 in asp[d1]:\n",
    "                    distance = asp[d1][d2]\n",
    "                    resd[key] = {}\n",
    "                    resd[key][\"Distance\"] = distance\n",
    "                    if disease_info.loc[d1, \"Category\"] == disease_info.loc[d2, \"Category\"]:\n",
    "                        resd[key][\"Type\"] = \"intra\"\n",
    "                    else:\n",
    "                        resd[key][\"Type\"] = \"inter\"\n",
    "res = [[k[0], k[1], v[\"Distance\"], v[\"Type\"]] for k, v in resd.items()]\n",
    "header = [\"From\", \"To\", \"Distance\", \"Type\"]\n",
    "res.insert(0, header)\n",
    "with open(\"./results/MRDN_distance.txt\", 'w') as fo:\n",
    "    fo.writelines([\"\\t\".join([str(val) for val in row])+\"\\n\" for row in res])"
   ]
  },
  {
   "cell_type": "code",
   "execution_count": 90,
   "metadata": {},
   "outputs": [],
   "source": [
    "similarity_matrix = pd.read_csv(\"./results/HMDD_similarity_matrix.txt\", sep=\"\\t\", index_col=0)\n",
    "with open(\"./results/MRDN_nodes_category.txt\", \"r\") as fi:\n",
    "    catedic = [row.strip().split(\"\\t\") for row in fi.readlines()[1:]]\n",
    "    catedic = {row[0]:row[1] for row in catedic}\n",
    "similarity = similarity_matrix.reset_index().melt(id_vars=\"disease\")\n",
    "similarity.columns = [\"d1\", \"d2\", \"similarity\"]\n",
    "similarity = similarity[similarity[\"d1\"] != similarity[\"d2\"]]\n",
    "similarity[\"d1_class\"] = [catedic[i] for i in similarity[\"d1\"]]\n",
    "similarity[\"d2_class\"] = [catedic[i] for i in similarity[\"d2\"]]\n",
    "similarity[\"same_class\"] = similarity[\"d1_class\"] == similarity[\"d2_class\"]"
   ]
  },
  {
   "cell_type": "code",
   "execution_count": 95,
   "metadata": {},
   "outputs": [],
   "source": [
    "similarity.to_csv(\"./results/MRDN_diseases.txt\", sep=\"\\t\", index=False)"
   ]
  },
  {
   "cell_type": "markdown",
   "metadata": {},
   "source": [
    "coherent"
   ]
  },
  {
   "cell_type": "code",
   "execution_count": 107,
   "metadata": {},
   "outputs": [],
   "source": [
    "# Generating input file for mfinder \n",
    "df = pd.read_csv(\"./results/MRDN_edges.txt\", sep=\"\\t\")\n",
    "nds = pd.read_csv(\"./results/MRDN_nodes_category.txt\", sep=\"\\t\")\n",
    "map2int = {row[0]:i+1 for i, row in enumerate(nds.values)}\n",
    "weightd = {\"+\": 1, \"-\": -1}\n",
    "output = [[map2int[row[1]], map2int[row[0]], weightd[row[-1]]] for row in df.values]\n",
    "with open(\"./results/coherent/MRDN_IntNet.txt\", \"w\") as fo:\n",
    "    fo.writelines([\"\\t\".join([str(i) for i in row])+\"\\n\" for row in output])\n",
    "mfinder_input = [[map2int[row[1]], map2int[row[0]], 1] for row in df.values]\n",
    "with open(\"./results/coherent/MRDN_mfinder_input.txt\", \"w\") as fo:\n",
    "    fo.writelines([\"\\t\".join([str(i) for i in row])+\"\\n\" for row in mfinder_input])"
   ]
  },
  {
   "cell_type": "code",
   "execution_count": 96,
   "metadata": {},
   "outputs": [],
   "source": [
    "def iscoherent(triplet, edged):\n",
    "    a = tuple(sorted([triplet[0], triplet[1]]))\n",
    "    b = tuple(sorted([triplet[1], triplet[2]]))\n",
    "    c = tuple(sorted([triplet[2], triplet[0]]))\n",
    "    res = edged[a]*edged[b]*edged[c]\n",
    "    if res == 1:\n",
    "        return True\n",
    "    return False"
   ]
  },
  {
   "cell_type": "code",
   "execution_count": null,
   "metadata": {},
   "outputs": [],
   "source": [
    "# Count the number of coherent loops.\n",
    "df = readTable(\"data/MRDN_IntNet.txt\")\n",
    "edged = {tuple(sorted(row[:2])):int(row[2]) for row in df}\n",
    "df = readTable(\"data/MRDN_mfinder_input_MEMBERS.txt\")\n",
    "df = df[:-1]\n",
    "cnt = int(df[1][0].split(\" : \")[1])\n",
    "motifs = df[5:]\n",
    "coherent = [triplet for triplet in motifs if iscoherent(triplet, edged)]\n",
    "ratio = float(len(coherent))/(cnt-len(coherent))\n",
    "print(cnt)\n",
    "print(len(coherent))\n",
    "print(ratio)"
   ]
  }
 ],
 "metadata": {
  "kernelspec": {
   "display_name": "Python 3 (ipykernel)",
   "language": "python",
   "name": "python3"
  },
  "language_info": {
   "codemirror_mode": {
    "name": "ipython",
    "version": 3
   },
   "file_extension": ".py",
   "mimetype": "text/x-python",
   "name": "python",
   "nbconvert_exporter": "python",
   "pygments_lexer": "ipython3",
   "version": "3.8.3"
  },
  "toc": {
   "base_numbering": 1,
   "nav_menu": {},
   "number_sections": true,
   "sideBar": true,
   "skip_h1_title": false,
   "title_cell": "Table of Contents",
   "title_sidebar": "Contents",
   "toc_cell": false,
   "toc_position": {},
   "toc_section_display": true,
   "toc_window_display": true
  }
 },
 "nbformat": 4,
 "nbformat_minor": 4
}
